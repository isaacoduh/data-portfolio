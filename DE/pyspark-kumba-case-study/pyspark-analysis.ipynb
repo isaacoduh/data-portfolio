{
 "cells": [
  {
   "cell_type": "code",
   "execution_count": 1,
   "metadata": {},
   "outputs": [
    {
     "name": "stdout",
     "output_type": "stream",
     "text": [
      "Collecting pyspark\n",
      "  Downloading pyspark-3.5.3.tar.gz (317.3 MB)\n",
      "\u001b[2K     \u001b[90m━━━━━━━━━━━━━━━━━━━━━━━━━━━━━━━━━━━━━━━\u001b[0m \u001b[32m317.3/317.3 MB\u001b[0m \u001b[31m2.7 MB/s\u001b[0m eta \u001b[36m0:00:00\u001b[0m00:01\u001b[0m00:01\u001b[0m\n",
      "\u001b[?25h  Preparing metadata (setup.py) ... \u001b[?25ldone\n",
      "\u001b[?25hCollecting py4j==0.10.9.7\n",
      "  Downloading py4j-0.10.9.7-py2.py3-none-any.whl (200 kB)\n",
      "\u001b[2K     \u001b[90m━━━━━━━━━━━━━━━━━━━━━━━━━━━━━━━━━━━━━━━\u001b[0m \u001b[32m200.5/200.5 kB\u001b[0m \u001b[31m7.9 MB/s\u001b[0m eta \u001b[36m0:00:00\u001b[0m\n",
      "\u001b[?25hUsing legacy 'setup.py install' for pyspark, since package 'wheel' is not installed.\n",
      "Installing collected packages: py4j, pyspark\n",
      "  Running setup.py install for pyspark ... \u001b[?25ldone\n",
      "\u001b[?25hSuccessfully installed py4j-0.10.9.7 pyspark-3.5.3\n",
      "\n",
      "\u001b[1m[\u001b[0m\u001b[34;49mnotice\u001b[0m\u001b[1;39;49m]\u001b[0m\u001b[39;49m A new release of pip available: \u001b[0m\u001b[31;49m22.2.1\u001b[0m\u001b[39;49m -> \u001b[0m\u001b[32;49m24.3.1\u001b[0m\n",
      "\u001b[1m[\u001b[0m\u001b[34;49mnotice\u001b[0m\u001b[1;39;49m]\u001b[0m\u001b[39;49m To update, run: \u001b[0m\u001b[32;49mpip install --upgrade pip\u001b[0m\n"
     ]
    }
   ],
   "source": [
    "!pip install pyspark"
   ]
  },
  {
   "cell_type": "code",
   "execution_count": 82,
   "metadata": {},
   "outputs": [],
   "source": [
    "from pyspark.sql import SparkSession\n",
    "from pyspark.sql.functions import *\n",
    "from datetime import datetime\n",
    "from sqlalchemy import create_engine\n",
    "import psycopg2\n",
    "import csv\n",
    "import glob\n",
    "import os\n",
    "import shutil"
   ]
  },
  {
   "cell_type": "code",
   "execution_count": 83,
   "metadata": {},
   "outputs": [],
   "source": [
    "# initialize spark session\n",
    "spark = SparkSession.builder.appName(\"Kumba_construction_Data_Exploration\").config(\"spark.driver.memory\", \"16gb\").getOrCreate()"
   ]
  },
  {
   "cell_type": "code",
   "execution_count": 84,
   "metadata": {},
   "outputs": [
    {
     "data": {
      "text/html": [
       "\n",
       "            <div>\n",
       "                <p><b>SparkSession - in-memory</b></p>\n",
       "                \n",
       "        <div>\n",
       "            <p><b>SparkContext</b></p>\n",
       "\n",
       "            <p><a href=\"http://192.168.1.33:4040\">Spark UI</a></p>\n",
       "\n",
       "            <dl>\n",
       "              <dt>Version</dt>\n",
       "                <dd><code>v3.5.3</code></dd>\n",
       "              <dt>Master</dt>\n",
       "                <dd><code>local[*]</code></dd>\n",
       "              <dt>AppName</dt>\n",
       "                <dd><code>Kumba_construction_Data_Exploration</code></dd>\n",
       "            </dl>\n",
       "        </div>\n",
       "        \n",
       "            </div>\n",
       "        "
      ],
      "text/plain": [
       "<pyspark.sql.session.SparkSession at 0x1206eff70>"
      ]
     },
     "execution_count": 84,
     "metadata": {},
     "output_type": "execute_result"
    }
   ],
   "source": [
    "spark"
   ]
  },
  {
   "cell_type": "code",
   "execution_count": 115,
   "metadata": {},
   "outputs": [
    {
     "name": "stderr",
     "output_type": "stream",
     "text": [
      "                                                                                \r"
     ]
    }
   ],
   "source": [
    "# Read CSV\n",
    "con_df = spark.read.csv(\"kumba_construction_data.csv\", header=True, inferSchema=True)"
   ]
  },
  {
   "cell_type": "code",
   "execution_count": 116,
   "metadata": {},
   "outputs": [
    {
     "name": "stdout",
     "output_type": "stream",
     "text": [
      "root\n",
      " |-- ProjectID: string (nullable = true)\n",
      " |-- ProjectName: string (nullable = true)\n",
      " |-- ClientName: string (nullable = true)\n",
      " |-- ProjectType: string (nullable = true)\n",
      " |-- ProjectStatus: string (nullable = true)\n",
      " |-- StartDate: string (nullable = true)\n",
      " |-- EndDate: string (nullable = true)\n",
      " |-- EstimatedBudget: double (nullable = true)\n",
      " |-- ActualCost: double (nullable = true)\n",
      " |-- Location: string (nullable = true)\n",
      " |-- ManagerName: double (nullable = true)\n",
      " |-- TeamSize: double (nullable = true)\n",
      " |-- ContractorName: double (nullable = true)\n",
      " |-- NumberOfSubcontractors: double (nullable = true)\n",
      " |-- MaterialsCost: double (nullable = true)\n",
      " |-- LaborCost: double (nullable = true)\n",
      " |-- EquipmentCost: double (nullable = true)\n",
      " |-- PermitFees: double (nullable = true)\n",
      " |-- InspectionFees: double (nullable = true)\n",
      " |-- ChangeOrderCount: double (nullable = true)\n",
      " |-- SafetyIncidentsCount: double (nullable = true)\n",
      " |-- ProjectDelayDays: double (nullable = true)\n",
      " |-- WeatherDelayDays: string (nullable = true)\n",
      " |-- ClientFeedbackScore: string (nullable = true)\n",
      " |-- QualityAuditScore: string (nullable = true)\n",
      " |-- EnvironmentalImpactScore: string (nullable = true)\n",
      " |-- EnergyEfficiencyScore: string (nullable = true)\n",
      " |-- InnovationScore: string (nullable = true)\n",
      " |-- CommunityImpactScore: string (nullable = true)\n",
      " |-- ROI: string (nullable = true)\n",
      "\n"
     ]
    }
   ],
   "source": [
    "# view schema\n",
    "con_df.printSchema()"
   ]
  },
  {
   "cell_type": "code",
   "execution_count": 117,
   "metadata": {},
   "outputs": [
    {
     "name": "stdout",
     "output_type": "stream",
     "text": [
      "+--------------------+--------------------+--------------------+--------------------+--------------------+----------+----------+---------------+----------+--------------------+-----------+--------+--------------+----------------------+-------------+---------+-------------+----------+--------------+----------------+--------------------+----------------+----------------+-------------------+-----------------+------------------------+---------------------+---------------+--------------------+----+\n",
      "|           ProjectID|         ProjectName|          ClientName|         ProjectType|       ProjectStatus| StartDate|   EndDate|EstimatedBudget|ActualCost|            Location|ManagerName|TeamSize|ContractorName|NumberOfSubcontractors|MaterialsCost|LaborCost|EquipmentCost|PermitFees|InspectionFees|ChangeOrderCount|SafetyIncidentsCount|ProjectDelayDays|WeatherDelayDays|ClientFeedbackScore|QualityAuditScore|EnvironmentalImpactScore|EnergyEfficiencyScore|InnovationScore|CommunityImpactScore| ROI|\n",
      "+--------------------+--------------------+--------------------+--------------------+--------------------+----------+----------+---------------+----------+--------------------+-----------+--------+--------------+----------------------+-------------+---------+-------------+----------+--------------+----------------+--------------------+----------------+----------------+-------------------+-----------------+------------------------+---------------------+---------------+--------------------+----+\n",
      "|59413bdf-b9f6-477...|Profound client-d...|Harrison, Evans a...|          Commercial|            Planning|2021-06-19|2021-12-04|       101382.0| 3125833.0|  40406 Ortiz Ridges|       NULL|    NULL|          NULL|                  NULL|         NULL|     NULL|         NULL|      NULL|          NULL|            NULL|                NULL|            NULL|            NULL|               NULL|             NULL|                    NULL|                 NULL|           NULL|                NULL|NULL|\n",
      "|             Leefort|           IN 09573\"|        Jamie Martin|                  19|Johnson, Salazar ...|         1|  552909.0|           NULL|  632947.0|              5827.0|     5339.0|    NULL|           3.0|                  71.0|         28.0|      3.0|          4.0|       3.0|           1.0|             4.0|                 4.0|            0.64|            NULL|               NULL|             NULL|                    NULL|                 NULL|           NULL|                NULL|NULL|\n",
      "|e71e25d8-05f7-49f...|Adaptive content-...|           Rios-Wang|          Commercial|         In Progress|2023-12-18|2024-09-10|      5963875.0| 1718355.0|  Unit 8970 Box 0765|       NULL|    NULL|          NULL|                  NULL|         NULL|     NULL|         NULL|      NULL|          NULL|            NULL|                NULL|            NULL|            NULL|               NULL|             NULL|                    NULL|                 NULL|           NULL|                NULL|NULL|\n",
      "|       DPO AA 72657\"|       Jamie Charles|                  47|Miller, Rios and ...|                   8|  155175.0|   54782.0|       470667.0|    8889.0|              7910.0|        2.0|     2.0|          56.0|                  23.0|          5.0|      6.0|          7.0|       8.0|          10.0|             4.0|                NULL|            NULL|            NULL|               NULL|             NULL|                    NULL|                 NULL|           NULL|                NULL|NULL|\n",
      "|351db883-8983-463...|Managed attitude-...|Carrillo, Potts a...|      Infrastructure|            Planning|2022-07-31|2023-04-03|      5212373.0| 9682407.0|92632 Moore Turnp...|       NULL|    NULL|          NULL|                  NULL|         NULL|     NULL|         NULL|      NULL|          NULL|            NULL|                NULL|            NULL|            NULL|               NULL|             NULL|                    NULL|                 NULL|           NULL|                NULL|NULL|\n",
      "|     Lake Karenhaven|           IN 12511\"|   Margaret Williams|                  31|       Salazar-Cohen|         1|  514047.0|        16380.0|    5270.0|              8561.0|     1115.0|    NULL|          NULL|                  57.0|         10.0|      7.0|          3.0|       3.0|           6.0|             5.0|                 7.0|            0.96|            NULL|               NULL|             NULL|                    NULL|                 NULL|           NULL|                NULL|NULL|\n",
      "|7b68c015-43fa-48c...|Realigned bandwid...|Grant, Becker and...|      Infrastructure|         In Progress|2022-10-02|2022-11-14|      9128447.0| 4065993.0|  6913 Mckinney Port|       NULL|    NULL|          NULL|                  NULL|         NULL|     NULL|         NULL|      NULL|          NULL|            NULL|                NULL|            NULL|            NULL|               NULL|             NULL|                    NULL|                 NULL|           NULL|                NULL|NULL|\n",
      "|          Brownhaven|           MT 78651\"|       Pamela Wilson|                  11|Long, Taylor and ...|         7|  441414.0|        95280.0|  593193.0|              6109.0|     8550.0|     4.0|           2.0|                  10.0|          1.0|     NULL|          6.0|       2.0|           8.0|             7.0|                10.0|            0.98|            NULL|               NULL|             NULL|                    NULL|                 NULL|           NULL|                NULL|NULL|\n",
      "|dbff5734-d766-4a0...|Inverse well-modu...|Schwartz, Pitts a...|          Commercial|           Completed|2021-04-02|2022-01-25|      6013650.0| 3477888.0|775 Taylor Drive ...|       NULL|    NULL|          NULL|                  NULL|         NULL|     NULL|         NULL|      NULL|          NULL|            NULL|                NULL|            NULL|            NULL|               NULL|             NULL|                    NULL|                 NULL|           NULL|                NULL|NULL|\n",
      "|            Troyview|           OR 97926\"|       Claudia Smith|                  37|Mendoza, Hale and...|         8|  191549.0|       925799.0|   66991.0|              8933.0|     7978.0|    NULL|           4.0|                  57.0|          2.0|      2.0|          2.0|      10.0|           4.0|             5.0|                 1.0|            0.72|            NULL|               NULL|             NULL|                    NULL|                 NULL|           NULL|                NULL|NULL|\n",
      "+--------------------+--------------------+--------------------+--------------------+--------------------+----------+----------+---------------+----------+--------------------+-----------+--------+--------------+----------------------+-------------+---------+-------------+----------+--------------+----------------+--------------------+----------------+----------------+-------------------+-----------------+------------------------+---------------------+---------------+--------------------+----+\n",
      "only showing top 10 rows\n",
      "\n"
     ]
    }
   ],
   "source": [
    "con_df.show(10)"
   ]
  },
  {
   "cell_type": "code",
   "execution_count": 118,
   "metadata": {},
   "outputs": [
    {
     "name": "stderr",
     "output_type": "stream",
     "text": [
      "[Stage 104:=================================================>       (7 + 1) / 8]\r"
     ]
    },
    {
     "name": "stdout",
     "output_type": "stream",
     "text": [
      "+-------+--------------------+-----------+------------------+------------------+------------------+------------------+------------------+------------------+------------------+------------------+-----------------+------------------+------------------+----------------------+------------------+-----------------+-----------------+-----------------+-----------------+------------------+--------------------+-------------------+----------------+-------------------+-----------------+------------------------+---------------------+---------------+--------------------+----+\n",
      "|summary|           ProjectID|ProjectName|        ClientName|       ProjectType|     ProjectStatus|         StartDate|           EndDate|   EstimatedBudget|        ActualCost|          Location|      ManagerName|          TeamSize|    ContractorName|NumberOfSubcontractors|     MaterialsCost|        LaborCost|    EquipmentCost|       PermitFees|   InspectionFees|  ChangeOrderCount|SafetyIncidentsCount|   ProjectDelayDays|WeatherDelayDays|ClientFeedbackScore|QualityAuditScore|EnvironmentalImpactScore|EnergyEfficiencyScore|InnovationScore|CommunityImpactScore| ROI|\n",
      "+-------+--------------------+-----------+------------------+------------------+------------------+------------------+------------------+------------------+------------------+------------------+-----------------+------------------+------------------+----------------------+------------------+-----------------+-----------------+-----------------+-----------------+------------------+--------------------+-------------------+----------------+-------------------+-----------------+------------------------+---------------------+---------------+--------------------+----+\n",
      "|  count|             2200000|    2200000|           2200000|           2200000|           2200000|           2188198|           2090290|           2089972|           2089890|           2089978|           989982|            989634|            990440|                990230|            990020|           989756|           989871|           990003|           989267|            990345|              989471|             883912|               0|                  0|                0|                       0|                    0|              0|                   0|   0|\n",
      "|   mean|                NULL|       NULL|27.474580859090832|27.499916478403556| 5.500304522153987|48936.312935697366|500434.18871946604|2868706.0913007446|2843470.6502763303| 4993.367442508824|4465.510629486193| 4.498317559825147| 8.834391785469084|     41.75053977358795|13.966224924748994|5.495417052283593|5.492588428189127|5.500447978440469|5.500141013497872| 5.497657886898001|   4.958213126003689|0.49513565830082734|            NULL|               NULL|             NULL|                    NULL|                 NULL|           NULL|                NULL|NULL|\n",
      "| stddev|                NULL|       NULL|13.247103842584824| 13.26740622683355|2.8691110488069276|173719.53539015198| 288713.0857483863|3079221.7156335856|3098830.0777255464| 2886.615897318589|3137.364552331506|2.8719378465750376|15.425493423524983|        26.63731184425| 8.999515126941887|2.872553477238962|2.871809256646737|2.871632777156634|2.872297552669455|2.8714759532797087|  3.1269046012497634|0.28873459735542506|            NULL|               NULL|             NULL|                    NULL|                 NULL|           NULL|                NULL|NULL|\n",
      "|    min|00001438-c6ee-47b...|  AK 00502\"|                10|                10|                 1|                 1|               1.0|               0.0|               0.0|               0.0|              0.0|               0.0|               0.0|                   0.0|               0.0|              1.0|              1.0|              1.0|              1.0|               1.0|                 0.0|                0.0|            NULL|               NULL|             NULL|                    NULL|                 NULL|           NULL|                NULL|NULL|\n",
      "|    max|ffffffab-2398-4ab...|Zoe Wallace|      Zuniga-Young|     Zuniga-Torres|     Zuniga-Wright|          999991.0|          999997.0|         9999992.0|         9999995.0|Unit 9999 Box 9396|           9999.0|               9.0|              90.0|                  90.0|              30.0|             10.0|             10.0|             10.0|             10.0|              10.0|                10.0|               0.99|            NULL|               NULL|             NULL|                    NULL|                 NULL|           NULL|                NULL|NULL|\n",
      "+-------+--------------------+-----------+------------------+------------------+------------------+------------------+------------------+------------------+------------------+------------------+-----------------+------------------+------------------+----------------------+------------------+-----------------+-----------------+-----------------+-----------------+------------------+--------------------+-------------------+----------------+-------------------+-----------------+------------------------+---------------------+---------------+--------------------+----+\n",
      "\n"
     ]
    },
    {
     "name": "stderr",
     "output_type": "stream",
     "text": [
      "                                                                                \r"
     ]
    }
   ],
   "source": [
    "con_df.describe().show()"
   ]
  },
  {
   "cell_type": "code",
   "execution_count": 119,
   "metadata": {},
   "outputs": [
    {
     "name": "stderr",
     "output_type": "stream",
     "text": [
      "                                                                                \r"
     ]
    },
    {
     "name": "stdout",
     "output_type": "stream",
     "text": [
      "ProjectID Null Values: 0\n"
     ]
    },
    {
     "name": "stderr",
     "output_type": "stream",
     "text": [
      "                                                                                \r"
     ]
    },
    {
     "name": "stdout",
     "output_type": "stream",
     "text": [
      "ProjectName Null Values: 0\n"
     ]
    },
    {
     "name": "stderr",
     "output_type": "stream",
     "text": [
      "                                                                                \r"
     ]
    },
    {
     "name": "stdout",
     "output_type": "stream",
     "text": [
      "ClientName Null Values: 0\n"
     ]
    },
    {
     "name": "stderr",
     "output_type": "stream",
     "text": [
      "                                                                                \r"
     ]
    },
    {
     "name": "stdout",
     "output_type": "stream",
     "text": [
      "ProjectType Null Values: 0\n"
     ]
    },
    {
     "name": "stderr",
     "output_type": "stream",
     "text": [
      "                                                                                \r"
     ]
    },
    {
     "name": "stdout",
     "output_type": "stream",
     "text": [
      "ProjectStatus Null Values: 0\n"
     ]
    },
    {
     "name": "stderr",
     "output_type": "stream",
     "text": [
      "                                                                                \r"
     ]
    },
    {
     "name": "stdout",
     "output_type": "stream",
     "text": [
      "StartDate Null Values: 11802\n"
     ]
    },
    {
     "name": "stderr",
     "output_type": "stream",
     "text": [
      "                                                                                \r"
     ]
    },
    {
     "name": "stdout",
     "output_type": "stream",
     "text": [
      "EndDate Null Values: 109710\n"
     ]
    },
    {
     "name": "stderr",
     "output_type": "stream",
     "text": [
      "                                                                                \r"
     ]
    },
    {
     "name": "stdout",
     "output_type": "stream",
     "text": [
      "EstimatedBudget Null Values: 110028\n"
     ]
    },
    {
     "name": "stderr",
     "output_type": "stream",
     "text": [
      "                                                                                \r"
     ]
    },
    {
     "name": "stdout",
     "output_type": "stream",
     "text": [
      "ActualCost Null Values: 110110\n"
     ]
    },
    {
     "name": "stderr",
     "output_type": "stream",
     "text": [
      "                                                                                \r"
     ]
    },
    {
     "name": "stdout",
     "output_type": "stream",
     "text": [
      "Location Null Values: 110022\n"
     ]
    },
    {
     "name": "stderr",
     "output_type": "stream",
     "text": [
      "                                                                                \r"
     ]
    },
    {
     "name": "stdout",
     "output_type": "stream",
     "text": [
      "ManagerName Null Values: 1210018\n"
     ]
    },
    {
     "name": "stderr",
     "output_type": "stream",
     "text": [
      "                                                                                \r"
     ]
    },
    {
     "name": "stdout",
     "output_type": "stream",
     "text": [
      "TeamSize Null Values: 1210366\n"
     ]
    },
    {
     "name": "stderr",
     "output_type": "stream",
     "text": [
      "                                                                                \r"
     ]
    },
    {
     "name": "stdout",
     "output_type": "stream",
     "text": [
      "ContractorName Null Values: 1209560\n"
     ]
    },
    {
     "name": "stderr",
     "output_type": "stream",
     "text": [
      "                                                                                \r"
     ]
    },
    {
     "name": "stdout",
     "output_type": "stream",
     "text": [
      "NumberOfSubcontractors Null Values: 1209770\n"
     ]
    },
    {
     "name": "stderr",
     "output_type": "stream",
     "text": [
      "                                                                                \r"
     ]
    },
    {
     "name": "stdout",
     "output_type": "stream",
     "text": [
      "MaterialsCost Null Values: 1209980\n"
     ]
    },
    {
     "name": "stderr",
     "output_type": "stream",
     "text": [
      "                                                                                \r"
     ]
    },
    {
     "name": "stdout",
     "output_type": "stream",
     "text": [
      "LaborCost Null Values: 1210244\n"
     ]
    },
    {
     "name": "stderr",
     "output_type": "stream",
     "text": [
      "                                                                                \r"
     ]
    },
    {
     "name": "stdout",
     "output_type": "stream",
     "text": [
      "EquipmentCost Null Values: 1210129\n"
     ]
    },
    {
     "name": "stderr",
     "output_type": "stream",
     "text": [
      "                                                                                \r"
     ]
    },
    {
     "name": "stdout",
     "output_type": "stream",
     "text": [
      "PermitFees Null Values: 1209997\n"
     ]
    },
    {
     "name": "stderr",
     "output_type": "stream",
     "text": [
      "                                                                                \r"
     ]
    },
    {
     "name": "stdout",
     "output_type": "stream",
     "text": [
      "InspectionFees Null Values: 1210733\n"
     ]
    },
    {
     "name": "stderr",
     "output_type": "stream",
     "text": [
      "                                                                                \r"
     ]
    },
    {
     "name": "stdout",
     "output_type": "stream",
     "text": [
      "ChangeOrderCount Null Values: 1209655\n"
     ]
    },
    {
     "name": "stderr",
     "output_type": "stream",
     "text": [
      "                                                                                \r"
     ]
    },
    {
     "name": "stdout",
     "output_type": "stream",
     "text": [
      "SafetyIncidentsCount Null Values: 1210529\n"
     ]
    },
    {
     "name": "stderr",
     "output_type": "stream",
     "text": [
      "                                                                                \r"
     ]
    },
    {
     "name": "stdout",
     "output_type": "stream",
     "text": [
      "ProjectDelayDays Null Values: 1316088\n"
     ]
    },
    {
     "name": "stderr",
     "output_type": "stream",
     "text": [
      "                                                                                \r"
     ]
    },
    {
     "name": "stdout",
     "output_type": "stream",
     "text": [
      "WeatherDelayDays Null Values: 2200000\n"
     ]
    },
    {
     "name": "stderr",
     "output_type": "stream",
     "text": [
      "                                                                                \r"
     ]
    },
    {
     "name": "stdout",
     "output_type": "stream",
     "text": [
      "ClientFeedbackScore Null Values: 2200000\n"
     ]
    },
    {
     "name": "stderr",
     "output_type": "stream",
     "text": [
      "                                                                                \r"
     ]
    },
    {
     "name": "stdout",
     "output_type": "stream",
     "text": [
      "QualityAuditScore Null Values: 2200000\n"
     ]
    },
    {
     "name": "stderr",
     "output_type": "stream",
     "text": [
      "                                                                                \r"
     ]
    },
    {
     "name": "stdout",
     "output_type": "stream",
     "text": [
      "EnvironmentalImpactScore Null Values: 2200000\n"
     ]
    },
    {
     "name": "stderr",
     "output_type": "stream",
     "text": [
      "                                                                                \r"
     ]
    },
    {
     "name": "stdout",
     "output_type": "stream",
     "text": [
      "EnergyEfficiencyScore Null Values: 2200000\n"
     ]
    },
    {
     "name": "stderr",
     "output_type": "stream",
     "text": [
      "                                                                                \r"
     ]
    },
    {
     "name": "stdout",
     "output_type": "stream",
     "text": [
      "InnovationScore Null Values: 2200000\n"
     ]
    },
    {
     "name": "stderr",
     "output_type": "stream",
     "text": [
      "                                                                                \r"
     ]
    },
    {
     "name": "stdout",
     "output_type": "stream",
     "text": [
      "CommunityImpactScore Null Values: 2200000\n"
     ]
    },
    {
     "name": "stderr",
     "output_type": "stream",
     "text": [
      "[Stage 194:>                                                        (0 + 8) / 8]\r"
     ]
    },
    {
     "name": "stdout",
     "output_type": "stream",
     "text": [
      "ROI Null Values: 2200000\n"
     ]
    },
    {
     "name": "stderr",
     "output_type": "stream",
     "text": [
      "                                                                                \r"
     ]
    }
   ],
   "source": [
    "# check null values\n",
    "for column in con_df.columns:\n",
    "    print(column, \"Null Values:\", con_df.filter(con_df[column].isNull()).count())"
   ]
  },
  {
   "cell_type": "code",
   "execution_count": 91,
   "metadata": {},
   "outputs": [],
   "source": [
    "numeric_cols = [\"EstimatedBudget\", \"ActualCost\", \"ManagerName\", \"TeamSize\", \"ContractorName\", \"NumberOfSubcontractors\", \n",
    "               \"MaterialsCost\", \"LaborCost\", \"EquipmentCost\", \"PermitFees\", \"InspectionFees\", \"ChangeOrderCount\",\n",
    "               \"SafetyIncidentsCount\", \"ProjectDelayDays\"]"
   ]
  },
  {
   "cell_type": "code",
   "execution_count": 120,
   "metadata": {},
   "outputs": [],
   "source": [
    "cleaned_data = con_df.fillna(0, subset=numeric_cols)"
   ]
  },
  {
   "cell_type": "code",
   "execution_count": 121,
   "metadata": {},
   "outputs": [],
   "source": [
    "string_cols = [\"ProjectID\",\"ProjectName\", \"ClientName\", \"ProjectType\", \"ProjectStatus\", \"Location\", \"WeatherDelayDays\", \n",
    "               \"ClientFeedbackScore\", \"QualityAuditScore\", \"EnvironmentalImpactScore\", \"EnergyEfficiencyScore\",\n",
    "               \"InnovationScore\", \"CommunityImpactScore\", \"ROI\"]"
   ]
  },
  {
   "cell_type": "code",
   "execution_count": 122,
   "metadata": {},
   "outputs": [],
   "source": [
    "cleaned_data = cleaned_data.fillna(\"Unknown\", subset=string_cols)"
   ]
  },
  {
   "cell_type": "code",
   "execution_count": 123,
   "metadata": {},
   "outputs": [],
   "source": [
    "# For date columns wwith many nuls, replace \n",
    "cleaned_data = cleaned_data.withColumn(\"StartDate\", when(col(\"StartDate\").isNull(), \"2022-01-01\").otherwise(\"StartDate\"))\n",
    "cleaned_data = cleaned_data.withColumn(\"EndDate\", when(col(\"EndDate\").isNull(), \"2022-12-31\").otherwise(\"EndDate\"))"
   ]
  },
  {
   "cell_type": "code",
   "execution_count": 124,
   "metadata": {},
   "outputs": [],
   "source": [
    "# Implement necessary data conversions\n",
    "# cleaned_data = cleaned_data.withColumn(\"ProjectID\", cleaned_data[\"ProjectID\"].cast(\"integer\"))\n",
    "cleaned_data = cleaned_data.withColumn(\"EstimatedBudget\", cleaned_data[\"EstimatedBudget\"].cast(\"double\"))\n",
    "cleaned_data = cleaned_data.withColumn(\"ActualCost\", cleaned_data[\"ActualCost\"].cast(\"double\"))"
   ]
  },
  {
   "cell_type": "code",
   "execution_count": 114,
   "metadata": {},
   "outputs": [
    {
     "data": {
      "text/plain": [
       "DataFrame[ProjectID: int, ProjectName: string, ClientName: string, ProjectType: string, ProjectStatus: string, StartDate: string, EndDate: string, EstimatedBudget: double, ActualCost: double, Location: string, ManagerName: double, TeamSize: double, ContractorName: double, NumberOfSubcontractors: double, MaterialsCost: double, LaborCost: double, EquipmentCost: double, PermitFees: double, InspectionFees: double, ChangeOrderCount: double, SafetyIncidentsCount: double, ProjectDelayDays: double, WeatherDelayDays: string, ClientFeedbackScore: string, QualityAuditScore: string, EnvironmentalImpactScore: string, EnergyEfficiencyScore: string, InnovationScore: string, CommunityImpactScore: string, ROI: string]"
      ]
     },
     "execution_count": 114,
     "metadata": {},
     "output_type": "execute_result"
    }
   ],
   "source": [
    "cleaned_data\n"
   ]
  },
  {
   "cell_type": "code",
   "execution_count": 113,
   "metadata": {},
   "outputs": [
    {
     "name": "stdout",
     "output_type": "stream",
     "text": [
      "+---------+--------------------+--------------------+--------------------+--------------------+---------+-------+---------------+----------+--------------------+-----------+--------+--------------+----------------------+-------------+---------+-------------+----------+--------------+----------------+--------------------+----------------+----------------+-------------------+-----------------+------------------------+---------------------+---------------+--------------------+-------+\n",
      "|ProjectID|         ProjectName|          ClientName|         ProjectType|       ProjectStatus|StartDate|EndDate|EstimatedBudget|ActualCost|            Location|ManagerName|TeamSize|ContractorName|NumberOfSubcontractors|MaterialsCost|LaborCost|EquipmentCost|PermitFees|InspectionFees|ChangeOrderCount|SafetyIncidentsCount|ProjectDelayDays|WeatherDelayDays|ClientFeedbackScore|QualityAuditScore|EnvironmentalImpactScore|EnergyEfficiencyScore|InnovationScore|CommunityImpactScore|    ROI|\n",
      "+---------+--------------------+--------------------+--------------------+--------------------+---------+-------+---------------+----------+--------------------+-----------+--------+--------------+----------------------+-------------+---------+-------------+----------+--------------+----------------+--------------------+----------------+----------------+-------------------+-----------------+------------------------+---------------------+---------------+--------------------+-------+\n",
      "|     NULL|Profound client-d...|Harrison, Evans a...|          Commercial|            Planning|StartDate|EndDate|       101382.0| 3125833.0|  40406 Ortiz Ridges|        0.0|     0.0|           0.0|                   0.0|          0.0|      0.0|          0.0|       0.0|           0.0|             0.0|                 0.0|             0.0|         Unknown|            Unknown|          Unknown|                 Unknown|              Unknown|        Unknown|             Unknown|Unknown|\n",
      "|     NULL|           IN 09573\"|        Jamie Martin|                  19|Johnson, Salazar ...|StartDate|EndDate|            0.0|  632947.0|              5827.0|     5339.0|     0.0|           3.0|                  71.0|         28.0|      3.0|          4.0|       3.0|           1.0|             4.0|                 4.0|            0.64|         Unknown|            Unknown|          Unknown|                 Unknown|              Unknown|        Unknown|             Unknown|Unknown|\n",
      "|     NULL|Adaptive content-...|           Rios-Wang|          Commercial|         In Progress|StartDate|EndDate|      5963875.0| 1718355.0|  Unit 8970 Box 0765|        0.0|     0.0|           0.0|                   0.0|          0.0|      0.0|          0.0|       0.0|           0.0|             0.0|                 0.0|             0.0|         Unknown|            Unknown|          Unknown|                 Unknown|              Unknown|        Unknown|             Unknown|Unknown|\n",
      "|     NULL|       Jamie Charles|                  47|Miller, Rios and ...|                   8|StartDate|EndDate|       470667.0|    8889.0|              7910.0|        2.0|     2.0|          56.0|                  23.0|          5.0|      6.0|          7.0|       8.0|          10.0|             4.0|                 0.0|             0.0|         Unknown|            Unknown|          Unknown|                 Unknown|              Unknown|        Unknown|             Unknown|Unknown|\n",
      "|     NULL|Managed attitude-...|Carrillo, Potts a...|      Infrastructure|            Planning|StartDate|EndDate|      5212373.0| 9682407.0|92632 Moore Turnp...|        0.0|     0.0|           0.0|                   0.0|          0.0|      0.0|          0.0|       0.0|           0.0|             0.0|                 0.0|             0.0|         Unknown|            Unknown|          Unknown|                 Unknown|              Unknown|        Unknown|             Unknown|Unknown|\n",
      "|     NULL|           IN 12511\"|   Margaret Williams|                  31|       Salazar-Cohen|StartDate|EndDate|        16380.0|    5270.0|              8561.0|     1115.0|     0.0|           0.0|                  57.0|         10.0|      7.0|          3.0|       3.0|           6.0|             5.0|                 7.0|            0.96|         Unknown|            Unknown|          Unknown|                 Unknown|              Unknown|        Unknown|             Unknown|Unknown|\n",
      "|     NULL|Realigned bandwid...|Grant, Becker and...|      Infrastructure|         In Progress|StartDate|EndDate|      9128447.0| 4065993.0|  6913 Mckinney Port|        0.0|     0.0|           0.0|                   0.0|          0.0|      0.0|          0.0|       0.0|           0.0|             0.0|                 0.0|             0.0|         Unknown|            Unknown|          Unknown|                 Unknown|              Unknown|        Unknown|             Unknown|Unknown|\n",
      "|     NULL|           MT 78651\"|       Pamela Wilson|                  11|Long, Taylor and ...|StartDate|EndDate|        95280.0|  593193.0|              6109.0|     8550.0|     4.0|           2.0|                  10.0|          1.0|      0.0|          6.0|       2.0|           8.0|             7.0|                10.0|            0.98|         Unknown|            Unknown|          Unknown|                 Unknown|              Unknown|        Unknown|             Unknown|Unknown|\n",
      "|     NULL|Inverse well-modu...|Schwartz, Pitts a...|          Commercial|           Completed|StartDate|EndDate|      6013650.0| 3477888.0|775 Taylor Drive ...|        0.0|     0.0|           0.0|                   0.0|          0.0|      0.0|          0.0|       0.0|           0.0|             0.0|                 0.0|             0.0|         Unknown|            Unknown|          Unknown|                 Unknown|              Unknown|        Unknown|             Unknown|Unknown|\n",
      "|     NULL|           OR 97926\"|       Claudia Smith|                  37|Mendoza, Hale and...|StartDate|EndDate|       925799.0|   66991.0|              8933.0|     7978.0|     0.0|           4.0|                  57.0|          2.0|      2.0|          2.0|      10.0|           4.0|             5.0|                 1.0|            0.72|         Unknown|            Unknown|          Unknown|                 Unknown|              Unknown|        Unknown|             Unknown|Unknown|\n",
      "|     NULL|Virtual secondary...|   Macdonald-Griffin|         Residential|           Completed|StartDate|EndDate|      4004423.0| 3948744.0|101 Brenda Stream...|        0.0|     0.0|           0.0|                   0.0|          0.0|      0.0|          0.0|       0.0|           0.0|             0.0|                 0.0|             0.0|         Unknown|            Unknown|          Unknown|                 Unknown|              Unknown|        Unknown|             Unknown|Unknown|\n",
      "|     NULL|           DE 43707\"|       Hannah Nguyen|                  14|Edwards, Greer an...|StartDate|EndDate|       555177.0|  512042.0|              4108.0|        0.0|     5.0|           2.0|                   3.0|          8.0|      9.0|          4.0|       2.0|           0.0|             2.0|                 1.0|            0.12|         Unknown|            Unknown|          Unknown|                 Unknown|              Unknown|        Unknown|             Unknown|Unknown|\n",
      "|     NULL|Robust heuristic ...|          Dawson LLC|          Commercial|           Completed|StartDate|EndDate|       564177.0| 4125137.0|  Unit 8357 Box 9987|        0.0|     0.0|           0.0|                   0.0|          0.0|      0.0|          0.0|       0.0|           0.0|             0.0|                 0.0|             0.0|         Unknown|            Unknown|          Unknown|                 Unknown|              Unknown|        Unknown|             Unknown|Unknown|\n",
      "|     NULL|      Brittany Kelly|                  32|Gonzalez, Roberts...|                   8|StartDate|EndDate|       758921.0|    7483.0|              2765.0|        2.0|     3.0|          86.0|                   6.0|          3.0|      0.0|          9.0|       8.0|           2.0|             2.0|                0.74|             0.0|         Unknown|            Unknown|          Unknown|                 Unknown|              Unknown|        Unknown|             Unknown|Unknown|\n",
      "|     NULL|Integrated asymme...|           Davis PLC|         Residential|            Planning|StartDate|EndDate|      5754007.0| 1624969.0|  Unit 8667 Box 2566|        0.0|     0.0|           0.0|                   0.0|          0.0|      0.0|          0.0|       0.0|           0.0|             0.0|                 0.0|             0.0|         Unknown|            Unknown|          Unknown|                 Unknown|              Unknown|        Unknown|             Unknown|Unknown|\n",
      "|     NULL|        Emily Moreno|                  32|       Warren-Palmer|                   2|StartDate|EndDate|        75077.0|    6413.0|              8435.0|        5.0|     5.0|          50.0|                   0.0|          2.0|      1.0|          6.0|       1.0|          10.0|             4.0|                0.91|             0.0|         Unknown|            Unknown|          Unknown|                 Unknown|              Unknown|        Unknown|             Unknown|Unknown|\n",
      "|     NULL|Managed web-enabl...|            Vang Inc|          Commercial|            Planning|StartDate|EndDate|      6480283.0| 9762897.0| 293 Martinez Unions|        0.0|     0.0|           0.0|                   0.0|          0.0|      0.0|          0.0|       0.0|           0.0|             0.0|                 0.0|             0.0|         Unknown|            Unknown|          Unknown|                 Unknown|              Unknown|        Unknown|             Unknown|Unknown|\n",
      "|     NULL|           MS 28290\"|      Caleb Mitchell|                  14|       Marshall-Long|StartDate|EndDate|       950875.0|  689309.0|              8898.0|     7801.0|     0.0|           8.0|                   0.0|         15.0|      7.0|         10.0|       2.0|          10.0|             1.0|                 9.0|            0.24|         Unknown|            Unknown|          Unknown|                 Unknown|              Unknown|        Unknown|             Unknown|Unknown|\n",
      "|     NULL|Open-architected ...|Pierce, Huynh and...|          Commercial|            Planning|StartDate|EndDate|      4496241.0| 9671059.0|322 Christina Mis...|        0.0|     0.0|           0.0|                   0.0|          0.0|      0.0|          0.0|       0.0|           0.0|             0.0|                 0.0|             0.0|         Unknown|            Unknown|          Unknown|                 Unknown|              Unknown|        Unknown|             Unknown|Unknown|\n",
      "|     NULL|           NM 63565\"|         Lisa Howell|                  50|          Duran-King|StartDate|EndDate|       666874.0|  856667.0|              5640.0|     9584.0|     4.0|           3.0|                  19.0|          6.0|      2.0|         10.0|       7.0|           1.0|             1.0|                 0.0|            0.77|         Unknown|            Unknown|          Unknown|                 Unknown|              Unknown|        Unknown|             Unknown|Unknown|\n",
      "+---------+--------------------+--------------------+--------------------+--------------------+---------+-------+---------------+----------+--------------------+-----------+--------+--------------+----------------------+-------------+---------+-------------+----------+--------------+----------------+--------------------+----------------+----------------+-------------------+-----------------+------------------------+---------------------+---------------+--------------------+-------+\n",
      "only showing top 20 rows\n",
      "\n"
     ]
    }
   ],
   "source": [
    "cleaned_data.show()"
   ]
  },
  {
   "cell_type": "code",
   "execution_count": 132,
   "metadata": {},
   "outputs": [
    {
     "name": "stderr",
     "output_type": "stream",
     "text": [
      "                                                                                \r"
     ]
    }
   ],
   "source": [
    "# file_save_path = r'/Users/isaacoduh/DevSandbox/data_portfolio/DE/pyspark-kumba-case-study/output_data/'\n",
    "# cleaned_data.write.mode('overwrite').option(\"header\",True) \\\n",
    "#  .csv('/Users/isaacoduh/DevSandbox/data_portfolio/DE/pyspark-kumba-case-study/output_data/')\n",
    "cleaned_data.coalesce(1).write.mode('overwrite').option(\"header\",True) \\\n",
    " .csv('/Users/isaacoduh/DevSandbox/data_portfolio/DE/pyspark-kumba-case-study/output_data/')"
   ]
  },
  {
   "cell_type": "code",
   "execution_count": 126,
   "metadata": {},
   "outputs": [],
   "source": [
    "# Load Data\n",
    "conn = psycopg2.connect(\n",
    "    host='127.0.0.1', database='postgres', user='isaacoduh', password='root'\n",
    ")\n",
    "cusor = conn.cursor()"
   ]
  },
  {
   "cell_type": "code",
   "execution_count": 129,
   "metadata": {},
   "outputs": [],
   "source": [
    "# CREATE TABLE\n",
    "# conn.rollback()\n",
    "cusor.execute(\"\"\"\n",
    "    CREATE TABLE IF NOT EXISTS kumba_construction (\n",
    "        ProjectID VARCHAR(255),\n",
    "        ProjectName VARCHAR(255),\n",
    "        ClientName VARCHAR(255),\n",
    "        ProjectType VARCHAR(255),\n",
    "        ProjectStatus VARCHAR(255),\n",
    "        StartDate DATE,\n",
    "        EndDate DATE,\n",
    "        EstimatedBudget FLOAT,\n",
    "        ActualCost FLOAT,\n",
    "        Location VARCHAR(255),\n",
    "        ManagerName FLOAT,\n",
    "        TeamSize FLOAT,\n",
    "        ContractorName FLOAT,\n",
    "        NumberOfSubcontractors FLOAT,\n",
    "        MaterialsCost FLOAT,\n",
    "        LaborCost FLOAT,\n",
    "        EquipmentCost FLOAT,\n",
    "        PermitFees FLOAT,\n",
    "        InspectionFees FLOAT,\n",
    "        ChangeOrderCount FLOAT,\n",
    "        SafetyIncidentsCount FLOAT,\n",
    "        ProjectDelayDays FLOAT,\n",
    "        WeatherDelayDays VARCHAR(255),\n",
    "        ClientFeedbackScore VARCHAR(255),\n",
    "        QualityAuditScore VARCHAR(255),\n",
    "        EnvironmentalImpactScore VARCHAR(255),\n",
    "        EnergyEfficiencyScore VARCHAR(255),\n",
    "        InnovationScore VARCHAR(255),\n",
    "        CommunityImpactScore VARCHAR(255),\n",
    "        ROI VARCHAR(255)\n",
    "    )\n",
    "\"\"\")\n",
    "conn.commit()"
   ]
  },
  {
   "cell_type": "code",
   "execution_count": 130,
   "metadata": {},
   "outputs": [],
   "source": [
    "# loading layer\n",
    "# develop a function to connect to pgadmin\n",
    "def get_db_connection():\n",
    "    connection = psycopg2.connect(host='127.0.0.1', database='postgres', user='isaacoduh', password='root')\n",
    "    return connection\n",
    "\n",
    "# connect to sql database\n",
    "conn = get_db_connection()"
   ]
  },
  {
   "cell_type": "code",
   "execution_count": 131,
   "metadata": {},
   "outputs": [],
   "source": [
    "def load_data_from_csv_to_tables(csv_path, table_name):\n",
    "    conn = get_db_connection()\n",
    "    cursor = conn.cursor()\n",
    "    with open(csv_path, 'r', encoding='utf-8') as file:\n",
    "        reader = csv.reader(file)\n",
    "        next(reader)\n",
    "        for row in reader:\n",
    "            placeholders = \", \".join(['%s'] * len(row))\n",
    "            query = f'INSERT INTO {table_name} VALUES ({placeholders});'\n",
    "            cursor.execute(query, row)\n",
    "    conn.commit()\n",
    "    cursor.close()\n",
    "    conn.close()\n",
    "            \n",
    "        "
   ]
  },
  {
   "cell_type": "code",
   "execution_count": 45,
   "metadata": {},
   "outputs": [],
   "source": [
    "csv_files = glob.glob('output_data/cleaned_transformed_data_*.csv')"
   ]
  },
  {
   "cell_type": "code",
   "execution_count": 134,
   "metadata": {},
   "outputs": [
    {
     "ename": "InvalidDatetimeFormat",
     "evalue": "invalid input syntax for type date: \"StartDate\"\nLINE 1: ...rison, Evans and Ward', 'Commercial', 'Planning', 'StartDate...\n                                                             ^\n",
     "output_type": "error",
     "traceback": [
      "\u001b[0;31m---------------------------------------------------------------------------\u001b[0m",
      "\u001b[0;31mInvalidDatetimeFormat\u001b[0m                     Traceback (most recent call last)",
      "Cell \u001b[0;32mIn[134], line 2\u001b[0m\n\u001b[1;32m      1\u001b[0m file_path \u001b[38;5;241m=\u001b[39m \u001b[38;5;124mr\u001b[39m\u001b[38;5;124m'\u001b[39m\u001b[38;5;124m/Users/isaacoduh/DevSandbox/data_portfolio/DE/pyspark-kumba-case-study/output_data/part-00000-179243d9-6ba3-4250-9933-a6cfc7f38404-c000.csv\u001b[39m\u001b[38;5;124m'\u001b[39m\n\u001b[0;32m----> 2\u001b[0m \u001b[43mload_data_from_csv_to_tables\u001b[49m\u001b[43m(\u001b[49m\u001b[43mfile_path\u001b[49m\u001b[43m,\u001b[49m\u001b[43m \u001b[49m\u001b[38;5;124;43m'\u001b[39;49m\u001b[38;5;124;43mkumba_construction\u001b[39;49m\u001b[38;5;124;43m'\u001b[39;49m\u001b[43m)\u001b[49m\n",
      "Cell \u001b[0;32mIn[131], line 10\u001b[0m, in \u001b[0;36mload_data_from_csv_to_tables\u001b[0;34m(csv_path, table_name)\u001b[0m\n\u001b[1;32m      8\u001b[0m         placeholders \u001b[38;5;241m=\u001b[39m \u001b[38;5;124m\"\u001b[39m\u001b[38;5;124m, \u001b[39m\u001b[38;5;124m\"\u001b[39m\u001b[38;5;241m.\u001b[39mjoin([\u001b[38;5;124m'\u001b[39m\u001b[38;5;132;01m%s\u001b[39;00m\u001b[38;5;124m'\u001b[39m] \u001b[38;5;241m*\u001b[39m \u001b[38;5;28mlen\u001b[39m(row))\n\u001b[1;32m      9\u001b[0m         query \u001b[38;5;241m=\u001b[39m \u001b[38;5;124mf\u001b[39m\u001b[38;5;124m'\u001b[39m\u001b[38;5;124mINSERT INTO \u001b[39m\u001b[38;5;132;01m{\u001b[39;00mtable_name\u001b[38;5;132;01m}\u001b[39;00m\u001b[38;5;124m VALUES (\u001b[39m\u001b[38;5;132;01m{\u001b[39;00mplaceholders\u001b[38;5;132;01m}\u001b[39;00m\u001b[38;5;124m);\u001b[39m\u001b[38;5;124m'\u001b[39m\n\u001b[0;32m---> 10\u001b[0m         \u001b[43mcursor\u001b[49m\u001b[38;5;241;43m.\u001b[39;49m\u001b[43mexecute\u001b[49m\u001b[43m(\u001b[49m\u001b[43mquery\u001b[49m\u001b[43m,\u001b[49m\u001b[43m \u001b[49m\u001b[43mrow\u001b[49m\u001b[43m)\u001b[49m\n\u001b[1;32m     11\u001b[0m conn\u001b[38;5;241m.\u001b[39mcommit()\n\u001b[1;32m     12\u001b[0m cursor\u001b[38;5;241m.\u001b[39mclose()\n",
      "\u001b[0;31mInvalidDatetimeFormat\u001b[0m: invalid input syntax for type date: \"StartDate\"\nLINE 1: ...rison, Evans and Ward', 'Commercial', 'Planning', 'StartDate...\n                                                             ^\n"
     ]
    }
   ],
   "source": [
    "file_path = r'/Users/isaacoduh/DevSandbox/data_portfolio/DE/pyspark-kumba-case-study/output_data/part-00000-179243d9-6ba3-4250-9933-a6cfc7f38404-c000.csv'\n",
    "load_data_from_csv_to_tables(file_path, 'kumba_construction')\n",
    "    "
   ]
  },
  {
   "cell_type": "code",
   "execution_count": null,
   "metadata": {},
   "outputs": [],
   "source": []
  },
  {
   "cell_type": "code",
   "execution_count": null,
   "metadata": {},
   "outputs": [],
   "source": []
  }
 ],
 "metadata": {
  "kernelspec": {
   "display_name": "Python 3",
   "language": "python",
   "name": "python3"
  },
  "language_info": {
   "codemirror_mode": {
    "name": "ipython",
    "version": 3
   },
   "file_extension": ".py",
   "mimetype": "text/x-python",
   "name": "python",
   "nbconvert_exporter": "python",
   "pygments_lexer": "ipython3",
   "version": "3.10.6"
  }
 },
 "nbformat": 4,
 "nbformat_minor": 2
}
