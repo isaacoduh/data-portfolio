{
 "cells": [
  {
   "cell_type": "code",
   "execution_count": 31,
   "metadata": {},
   "outputs": [],
   "source": [
    "import pandas as pd"
   ]
  },
  {
   "cell_type": "code",
   "execution_count": 32,
   "metadata": {},
   "outputs": [
    {
     "data": {
      "text/html": [
       "<div>\n",
       "<style scoped>\n",
       "    .dataframe tbody tr th:only-of-type {\n",
       "        vertical-align: middle;\n",
       "    }\n",
       "\n",
       "    .dataframe tbody tr th {\n",
       "        vertical-align: top;\n",
       "    }\n",
       "\n",
       "    .dataframe thead th {\n",
       "        text-align: right;\n",
       "    }\n",
       "</style>\n",
       "<table border=\"1\" class=\"dataframe\">\n",
       "  <thead>\n",
       "    <tr style=\"text-align: right;\">\n",
       "      <th></th>\n",
       "      <th>Country</th>\n",
       "      <th>University</th>\n",
       "      <th>Founded</th>\n",
       "      <th>Type</th>\n",
       "      <th>Enrollment</th>\n",
       "      <th>Link</th>\n",
       "    </tr>\n",
       "  </thead>\n",
       "  <tbody>\n",
       "    <tr>\n",
       "      <th>0</th>\n",
       "      <td>Albania</td>\n",
       "      <td>University of Tirana</td>\n",
       "      <td>1957</td>\n",
       "      <td>Public</td>\n",
       "      <td>35,000</td>\n",
       "      <td>https://en.wikipedia.org/wiki/University_of_Ti...</td>\n",
       "    </tr>\n",
       "    <tr>\n",
       "      <th>1</th>\n",
       "      <td>Algeria</td>\n",
       "      <td>Constantine University</td>\n",
       "      <td>1978</td>\n",
       "      <td>Public</td>\n",
       "      <td>85,000</td>\n",
       "      <td>https://en.wikipedia.org/wiki/List_of_universi...</td>\n",
       "    </tr>\n",
       "    <tr>\n",
       "      <th>2</th>\n",
       "      <td>Angola</td>\n",
       "      <td>Agostinho Neto University</td>\n",
       "      <td>1962</td>\n",
       "      <td>Public</td>\n",
       "      <td>29,827</td>\n",
       "      <td>https://en.wikipedia.org/wiki/Agostinho_Neto_U...</td>\n",
       "    </tr>\n",
       "    <tr>\n",
       "      <th>3</th>\n",
       "      <td>Argentina</td>\n",
       "      <td>University of Buenos Aires</td>\n",
       "      <td>1821</td>\n",
       "      <td>Public</td>\n",
       "      <td>311,175</td>\n",
       "      <td>https://en.wikipedia.org/wiki/University_of_Bu...</td>\n",
       "    </tr>\n",
       "    <tr>\n",
       "      <th>4</th>\n",
       "      <td>Australia</td>\n",
       "      <td>Monash University</td>\n",
       "      <td>1958</td>\n",
       "      <td>Public</td>\n",
       "      <td>73,807</td>\n",
       "      <td>https://en.wikipedia.org/wiki/Monash_University</td>\n",
       "    </tr>\n",
       "    <tr>\n",
       "      <th>...</th>\n",
       "      <td>...</td>\n",
       "      <td>...</td>\n",
       "      <td>...</td>\n",
       "      <td>...</td>\n",
       "      <td>...</td>\n",
       "      <td>...</td>\n",
       "    </tr>\n",
       "    <tr>\n",
       "      <th>65</th>\n",
       "      <td>Turkey</td>\n",
       "      <td>Anadolu University</td>\n",
       "      <td>1958</td>\n",
       "      <td>Public</td>\n",
       "      <td>1,969,733</td>\n",
       "      <td>https://en.wikipedia.org/wiki/Anadolu_University</td>\n",
       "    </tr>\n",
       "    <tr>\n",
       "      <th>66</th>\n",
       "      <td>United Kingdom</td>\n",
       "      <td>Open University</td>\n",
       "      <td>1969</td>\n",
       "      <td>Public</td>\n",
       "      <td>253,075</td>\n",
       "      <td>https://en.wikipedia.org/wiki/Open_University</td>\n",
       "    </tr>\n",
       "    <tr>\n",
       "      <th>67</th>\n",
       "      <td>United States</td>\n",
       "      <td>Texas A&amp;M University</td>\n",
       "      <td>1876</td>\n",
       "      <td>Public</td>\n",
       "      <td>73,284</td>\n",
       "      <td>https://en.wikipedia.org/wiki/Texas_A%26M_Univ...</td>\n",
       "    </tr>\n",
       "    <tr>\n",
       "      <th>68</th>\n",
       "      <td>Uruguay</td>\n",
       "      <td>University of the Republic</td>\n",
       "      <td>1949</td>\n",
       "      <td>Public</td>\n",
       "      <td>144,108</td>\n",
       "      <td>https://en.wikipedia.org/wiki/University_of_th...</td>\n",
       "    </tr>\n",
       "    <tr>\n",
       "      <th>69</th>\n",
       "      <td>Venezuela</td>\n",
       "      <td>Universidad Central de Venezuela</td>\n",
       "      <td>1721</td>\n",
       "      <td>Public</td>\n",
       "      <td>41,059</td>\n",
       "      <td>https://en.wikipedia.org/wiki/Universidad_Cent...</td>\n",
       "    </tr>\n",
       "  </tbody>\n",
       "</table>\n",
       "<p>70 rows × 6 columns</p>\n",
       "</div>"
      ],
      "text/plain": [
       "           Country                        University Founded    Type  \\\n",
       "0          Albania              University of Tirana    1957  Public   \n",
       "1          Algeria            Constantine University    1978  Public   \n",
       "2           Angola         Agostinho Neto University    1962  Public   \n",
       "3        Argentina        University of Buenos Aires    1821  Public   \n",
       "4        Australia                 Monash University    1958  Public   \n",
       "..             ...                               ...     ...     ...   \n",
       "65          Turkey                Anadolu University    1958  Public   \n",
       "66  United Kingdom                   Open University    1969  Public   \n",
       "67   United States              Texas A&M University    1876  Public   \n",
       "68         Uruguay        University of the Republic    1949  Public   \n",
       "69       Venezuela  Universidad Central de Venezuela    1721  Public   \n",
       "\n",
       "   Enrollment                                               Link  \n",
       "0      35,000  https://en.wikipedia.org/wiki/University_of_Ti...  \n",
       "1      85,000  https://en.wikipedia.org/wiki/List_of_universi...  \n",
       "2      29,827  https://en.wikipedia.org/wiki/Agostinho_Neto_U...  \n",
       "3     311,175  https://en.wikipedia.org/wiki/University_of_Bu...  \n",
       "4      73,807    https://en.wikipedia.org/wiki/Monash_University  \n",
       "..        ...                                                ...  \n",
       "65  1,969,733   https://en.wikipedia.org/wiki/Anadolu_University  \n",
       "66    253,075      https://en.wikipedia.org/wiki/Open_University  \n",
       "67     73,284  https://en.wikipedia.org/wiki/Texas_A%26M_Univ...  \n",
       "68    144,108  https://en.wikipedia.org/wiki/University_of_th...  \n",
       "69     41,059  https://en.wikipedia.org/wiki/Universidad_Cent...  \n",
       "\n",
       "[70 rows x 6 columns]"
      ]
     },
     "execution_count": 32,
     "metadata": {},
     "output_type": "execute_result"
    }
   ],
   "source": [
    "df = pd.read_csv('universities.csv')\n",
    "df"
   ]
  },
  {
   "cell_type": "code",
   "execution_count": 33,
   "metadata": {},
   "outputs": [
    {
     "data": {
      "text/html": [
       "<div>\n",
       "<style scoped>\n",
       "    .dataframe tbody tr th:only-of-type {\n",
       "        vertical-align: middle;\n",
       "    }\n",
       "\n",
       "    .dataframe tbody tr th {\n",
       "        vertical-align: top;\n",
       "    }\n",
       "\n",
       "    .dataframe thead th {\n",
       "        text-align: right;\n",
       "    }\n",
       "</style>\n",
       "<table border=\"1\" class=\"dataframe\">\n",
       "  <thead>\n",
       "    <tr style=\"text-align: right;\">\n",
       "      <th></th>\n",
       "      <th>Country</th>\n",
       "      <th>University</th>\n",
       "      <th>Founded</th>\n",
       "      <th>Type</th>\n",
       "      <th>Enrollment</th>\n",
       "      <th>Link</th>\n",
       "    </tr>\n",
       "  </thead>\n",
       "  <tbody>\n",
       "    <tr>\n",
       "      <th>0</th>\n",
       "      <td>Albania</td>\n",
       "      <td>University of Tirana</td>\n",
       "      <td>1957</td>\n",
       "      <td>Public</td>\n",
       "      <td>35,000</td>\n",
       "      <td>https://en.wikipedia.org/wiki/University_of_Ti...</td>\n",
       "    </tr>\n",
       "    <tr>\n",
       "      <th>1</th>\n",
       "      <td>Algeria</td>\n",
       "      <td>Constantine University</td>\n",
       "      <td>1978</td>\n",
       "      <td>Public</td>\n",
       "      <td>85,000</td>\n",
       "      <td>https://en.wikipedia.org/wiki/List_of_universi...</td>\n",
       "    </tr>\n",
       "    <tr>\n",
       "      <th>2</th>\n",
       "      <td>Angola</td>\n",
       "      <td>Agostinho Neto University</td>\n",
       "      <td>1962</td>\n",
       "      <td>Public</td>\n",
       "      <td>29,827</td>\n",
       "      <td>https://en.wikipedia.org/wiki/Agostinho_Neto_U...</td>\n",
       "    </tr>\n",
       "    <tr>\n",
       "      <th>3</th>\n",
       "      <td>Argentina</td>\n",
       "      <td>University of Buenos Aires</td>\n",
       "      <td>1821</td>\n",
       "      <td>Public</td>\n",
       "      <td>311,175</td>\n",
       "      <td>https://en.wikipedia.org/wiki/University_of_Bu...</td>\n",
       "    </tr>\n",
       "    <tr>\n",
       "      <th>4</th>\n",
       "      <td>Australia</td>\n",
       "      <td>Monash University</td>\n",
       "      <td>1958</td>\n",
       "      <td>Public</td>\n",
       "      <td>73,807</td>\n",
       "      <td>https://en.wikipedia.org/wiki/Monash_University</td>\n",
       "    </tr>\n",
       "  </tbody>\n",
       "</table>\n",
       "</div>"
      ],
      "text/plain": [
       "     Country                  University Founded    Type Enrollment  \\\n",
       "0    Albania        University of Tirana    1957  Public     35,000   \n",
       "1    Algeria      Constantine University    1978  Public     85,000   \n",
       "2     Angola   Agostinho Neto University    1962  Public     29,827   \n",
       "3  Argentina  University of Buenos Aires    1821  Public    311,175   \n",
       "4  Australia           Monash University    1958  Public     73,807   \n",
       "\n",
       "                                                Link  \n",
       "0  https://en.wikipedia.org/wiki/University_of_Ti...  \n",
       "1  https://en.wikipedia.org/wiki/List_of_universi...  \n",
       "2  https://en.wikipedia.org/wiki/Agostinho_Neto_U...  \n",
       "3  https://en.wikipedia.org/wiki/University_of_Bu...  \n",
       "4    https://en.wikipedia.org/wiki/Monash_University  "
      ]
     },
     "execution_count": 33,
     "metadata": {},
     "output_type": "execute_result"
    }
   ],
   "source": [
    "df.head()"
   ]
  },
  {
   "cell_type": "code",
   "execution_count": 34,
   "metadata": {},
   "outputs": [
    {
     "data": {
      "text/plain": [
       "array(['1957', '1978', '1962', '1821', '1958', '1365', '1992', '1921',\n",
       "       '1425', '1949', '1982', '1970', '1888', '1827', '1960', '1867',\n",
       "       '1940', '1669', '1928', '1538', '1950', '1632', '1640', '1939',\n",
       "       '1998', '1837', '1676', '1937', '1911', '1985', '1984', '1982',\n",
       "       '1834', '1956', '1303', '1889', '1970', '1999', '1579', '2000',\n",
       "       '1956', '1551', '1959', '1636', '1883', '1943', '1996', '2002',\n",
       "       '1551', '1904', '1816', '1288', '1991', '1992', '1976', '1905',\n",
       "       '1919', '1873', '1972', '1972', '1666', '1833[34]', '1928', '1971',\n",
       "       '1960', '1958', '1969', '1876', '1949', '1721'], dtype=object)"
      ]
     },
     "execution_count": 34,
     "metadata": {},
     "output_type": "execute_result"
    }
   ],
   "source": [
    "df['Founded'].values"
   ]
  },
  {
   "cell_type": "code",
   "execution_count": 35,
   "metadata": {},
   "outputs": [],
   "source": [
    "df['Founded'] = df['Founded'].str.extract(\"(\\d{4})\")"
   ]
  },
  {
   "cell_type": "code",
   "execution_count": 36,
   "metadata": {},
   "outputs": [
    {
     "data": {
      "text/plain": [
       "array(['1957', '1978', '1962', '1821', '1958', '1365', '1992', '1921',\n",
       "       '1425', '1949', '1982', '1970', '1888', '1827', '1960', '1867',\n",
       "       '1940', '1669', '1928', '1538', '1950', '1632', '1640', '1939',\n",
       "       '1998', '1837', '1676', '1937', '1911', '1985', '1984', '1982',\n",
       "       '1834', '1956', '1303', '1889', '1970', '1999', '1579', '2000',\n",
       "       '1956', '1551', '1959', '1636', '1883', '1943', '1996', '2002',\n",
       "       '1551', '1904', '1816', '1288', '1991', '1992', '1976', '1905',\n",
       "       '1919', '1873', '1972', '1972', '1666', '1833', '1928', '1971',\n",
       "       '1960', '1958', '1969', '1876', '1949', '1721'], dtype=object)"
      ]
     },
     "execution_count": 36,
     "metadata": {},
     "output_type": "execute_result"
    }
   ],
   "source": [
    "df['Founded'].values"
   ]
  },
  {
   "cell_type": "code",
   "execution_count": 37,
   "metadata": {},
   "outputs": [],
   "source": [
    "df['Founded'] = df['Founded'].astype(int)"
   ]
  },
  {
   "cell_type": "code",
   "execution_count": 38,
   "metadata": {},
   "outputs": [
    {
     "name": "stdout",
     "output_type": "stream",
     "text": [
      "<class 'pandas.core.frame.DataFrame'>\n",
      "RangeIndex: 70 entries, 0 to 69\n",
      "Data columns (total 6 columns):\n",
      " #   Column      Non-Null Count  Dtype \n",
      "---  ------      --------------  ----- \n",
      " 0   Country     70 non-null     object\n",
      " 1   University  70 non-null     object\n",
      " 2   Founded     70 non-null     int64 \n",
      " 3   Type        70 non-null     object\n",
      " 4   Enrollment  70 non-null     object\n",
      " 5   Link        70 non-null     object\n",
      "dtypes: int64(1), object(5)\n",
      "memory usage: 3.4+ KB\n"
     ]
    }
   ],
   "source": [
    "df.info()"
   ]
  },
  {
   "cell_type": "code",
   "execution_count": 39,
   "metadata": {},
   "outputs": [
    {
     "data": {
      "text/html": [
       "<div>\n",
       "<style scoped>\n",
       "    .dataframe tbody tr th:only-of-type {\n",
       "        vertical-align: middle;\n",
       "    }\n",
       "\n",
       "    .dataframe tbody tr th {\n",
       "        vertical-align: top;\n",
       "    }\n",
       "\n",
       "    .dataframe thead th {\n",
       "        text-align: right;\n",
       "    }\n",
       "</style>\n",
       "<table border=\"1\" class=\"dataframe\">\n",
       "  <thead>\n",
       "    <tr style=\"text-align: right;\">\n",
       "      <th></th>\n",
       "      <th>Country</th>\n",
       "      <th>University</th>\n",
       "      <th>Founded</th>\n",
       "      <th>Type</th>\n",
       "      <th>Enrollment</th>\n",
       "      <th>Link</th>\n",
       "    </tr>\n",
       "  </thead>\n",
       "  <tbody>\n",
       "  </tbody>\n",
       "</table>\n",
       "</div>"
      ],
      "text/plain": [
       "Empty DataFrame\n",
       "Columns: [Country, University, Founded, Type, Enrollment, Link]\n",
       "Index: []"
      ]
     },
     "execution_count": 39,
     "metadata": {},
     "output_type": "execute_result"
    }
   ],
   "source": [
    "df[df['Link'].isnull()]"
   ]
  },
  {
   "cell_type": "code",
   "execution_count": 40,
   "metadata": {},
   "outputs": [
    {
     "data": {
      "text/plain": [
       "array(['35,000', '85,000', '29,827', '311,175', '73,807', '91,000',\n",
       "       '2,097,182', '25,500', '55,484', '30,866', '32,000', '215,000',\n",
       "       '18 911', '84,000', '80,000', '53,581', '42,750', '72,480',\n",
       "       '43,600', '170,530', '170,000', '14,000', '36,500', '350,000[8]',\n",
       "       '130,000', '104,000', '124,000', '32,000', '13,782', '7,140,000',\n",
       "       '1,045,665 (total) as per 2019/2020[14]\\n311,028 (active) as per 4 November 2020 [15]',\n",
       "       '1,000,000', '32,900', '26,023', '112,564', '70,667', '84,000',\n",
       "       '41,833', '23,606', '10,373', '100,000', '349,515', '604,437',\n",
       "       '39,769', '33,050', '50,000', '39,000', '165,000', '37,032',\n",
       "       '68,249', '44,400', '48,100', '311,928', '200,000', '177,234',\n",
       "       '38,300', '48,821', '328,179', '173,758', '260,079', '30,646',\n",
       "       '26,356', '31,758', '525,000', '60,000+', '1,969,733', '253,075',\n",
       "       '73,284', '144,108', '41,059'], dtype=object)"
      ]
     },
     "execution_count": 40,
     "metadata": {},
     "output_type": "execute_result"
    }
   ],
   "source": [
    "df['Enrollment'].values"
   ]
  },
  {
   "cell_type": "code",
   "execution_count": 41,
   "metadata": {},
   "outputs": [],
   "source": [
    "df['Enrollment'] = df['Enrollment'].str.replace(' ', ',')"
   ]
  },
  {
   "cell_type": "code",
   "execution_count": 42,
   "metadata": {},
   "outputs": [],
   "source": [
    "df['Enrollment'] = df['Enrollment'].str.extract('(\\d{1,3}(?:,\\d{1,3})*)')"
   ]
  },
  {
   "cell_type": "code",
   "execution_count": 43,
   "metadata": {},
   "outputs": [
    {
     "data": {
      "text/plain": [
       "array(['35,000', '85,000', '29,827', '311,175', '73,807', '91,000',\n",
       "       '2,097,182', '25,500', '55,484', '30,866', '32,000', '215,000',\n",
       "       '18,911', '84,000', '80,000', '53,581', '42,750', '72,480',\n",
       "       '43,600', '170,530', '170,000', '14,000', '36,500', '350,000',\n",
       "       '130,000', '104,000', '124,000', '32,000', '13,782', '7,140,000',\n",
       "       '1,045,665', '1,000,000', '32,900', '26,023', '112,564', '70,667',\n",
       "       '84,000', '41,833', '23,606', '10,373', '100,000', '349,515',\n",
       "       '604,437', '39,769', '33,050', '50,000', '39,000', '165,000',\n",
       "       '37,032', '68,249', '44,400', '48,100', '311,928', '200,000',\n",
       "       '177,234', '38,300', '48,821', '328,179', '173,758', '260,079',\n",
       "       '30,646', '26,356', '31,758', '525,000', '60,000', '1,969,733',\n",
       "       '253,075', '73,284', '144,108', '41,059'], dtype=object)"
      ]
     },
     "execution_count": 43,
     "metadata": {},
     "output_type": "execute_result"
    }
   ],
   "source": [
    "df['Enrollment'].values"
   ]
  },
  {
   "cell_type": "code",
   "execution_count": 44,
   "metadata": {},
   "outputs": [],
   "source": [
    "df['Enrollment'] = df['Enrollment'].str.replace(',', '')"
   ]
  },
  {
   "cell_type": "code",
   "execution_count": 45,
   "metadata": {},
   "outputs": [
    {
     "data": {
      "text/html": [
       "<div>\n",
       "<style scoped>\n",
       "    .dataframe tbody tr th:only-of-type {\n",
       "        vertical-align: middle;\n",
       "    }\n",
       "\n",
       "    .dataframe tbody tr th {\n",
       "        vertical-align: top;\n",
       "    }\n",
       "\n",
       "    .dataframe thead th {\n",
       "        text-align: right;\n",
       "    }\n",
       "</style>\n",
       "<table border=\"1\" class=\"dataframe\">\n",
       "  <thead>\n",
       "    <tr style=\"text-align: right;\">\n",
       "      <th></th>\n",
       "      <th>Country</th>\n",
       "      <th>University</th>\n",
       "      <th>Founded</th>\n",
       "      <th>Type</th>\n",
       "      <th>Enrollment</th>\n",
       "      <th>Link</th>\n",
       "    </tr>\n",
       "  </thead>\n",
       "  <tbody>\n",
       "    <tr>\n",
       "      <th>0</th>\n",
       "      <td>Albania</td>\n",
       "      <td>University of Tirana</td>\n",
       "      <td>1957</td>\n",
       "      <td>Public</td>\n",
       "      <td>35000</td>\n",
       "      <td>https://en.wikipedia.org/wiki/University_of_Ti...</td>\n",
       "    </tr>\n",
       "    <tr>\n",
       "      <th>1</th>\n",
       "      <td>Algeria</td>\n",
       "      <td>Constantine University</td>\n",
       "      <td>1978</td>\n",
       "      <td>Public</td>\n",
       "      <td>85000</td>\n",
       "      <td>https://en.wikipedia.org/wiki/List_of_universi...</td>\n",
       "    </tr>\n",
       "    <tr>\n",
       "      <th>2</th>\n",
       "      <td>Angola</td>\n",
       "      <td>Agostinho Neto University</td>\n",
       "      <td>1962</td>\n",
       "      <td>Public</td>\n",
       "      <td>29827</td>\n",
       "      <td>https://en.wikipedia.org/wiki/Agostinho_Neto_U...</td>\n",
       "    </tr>\n",
       "    <tr>\n",
       "      <th>3</th>\n",
       "      <td>Argentina</td>\n",
       "      <td>University of Buenos Aires</td>\n",
       "      <td>1821</td>\n",
       "      <td>Public</td>\n",
       "      <td>311175</td>\n",
       "      <td>https://en.wikipedia.org/wiki/University_of_Bu...</td>\n",
       "    </tr>\n",
       "    <tr>\n",
       "      <th>4</th>\n",
       "      <td>Australia</td>\n",
       "      <td>Monash University</td>\n",
       "      <td>1958</td>\n",
       "      <td>Public</td>\n",
       "      <td>73807</td>\n",
       "      <td>https://en.wikipedia.org/wiki/Monash_University</td>\n",
       "    </tr>\n",
       "    <tr>\n",
       "      <th>...</th>\n",
       "      <td>...</td>\n",
       "      <td>...</td>\n",
       "      <td>...</td>\n",
       "      <td>...</td>\n",
       "      <td>...</td>\n",
       "      <td>...</td>\n",
       "    </tr>\n",
       "    <tr>\n",
       "      <th>65</th>\n",
       "      <td>Turkey</td>\n",
       "      <td>Anadolu University</td>\n",
       "      <td>1958</td>\n",
       "      <td>Public</td>\n",
       "      <td>1969733</td>\n",
       "      <td>https://en.wikipedia.org/wiki/Anadolu_University</td>\n",
       "    </tr>\n",
       "    <tr>\n",
       "      <th>66</th>\n",
       "      <td>United Kingdom</td>\n",
       "      <td>Open University</td>\n",
       "      <td>1969</td>\n",
       "      <td>Public</td>\n",
       "      <td>253075</td>\n",
       "      <td>https://en.wikipedia.org/wiki/Open_University</td>\n",
       "    </tr>\n",
       "    <tr>\n",
       "      <th>67</th>\n",
       "      <td>United States</td>\n",
       "      <td>Texas A&amp;M University</td>\n",
       "      <td>1876</td>\n",
       "      <td>Public</td>\n",
       "      <td>73284</td>\n",
       "      <td>https://en.wikipedia.org/wiki/Texas_A%26M_Univ...</td>\n",
       "    </tr>\n",
       "    <tr>\n",
       "      <th>68</th>\n",
       "      <td>Uruguay</td>\n",
       "      <td>University of the Republic</td>\n",
       "      <td>1949</td>\n",
       "      <td>Public</td>\n",
       "      <td>144108</td>\n",
       "      <td>https://en.wikipedia.org/wiki/University_of_th...</td>\n",
       "    </tr>\n",
       "    <tr>\n",
       "      <th>69</th>\n",
       "      <td>Venezuela</td>\n",
       "      <td>Universidad Central de Venezuela</td>\n",
       "      <td>1721</td>\n",
       "      <td>Public</td>\n",
       "      <td>41059</td>\n",
       "      <td>https://en.wikipedia.org/wiki/Universidad_Cent...</td>\n",
       "    </tr>\n",
       "  </tbody>\n",
       "</table>\n",
       "<p>70 rows × 6 columns</p>\n",
       "</div>"
      ],
      "text/plain": [
       "           Country                        University  Founded    Type  \\\n",
       "0          Albania              University of Tirana     1957  Public   \n",
       "1          Algeria            Constantine University     1978  Public   \n",
       "2           Angola         Agostinho Neto University     1962  Public   \n",
       "3        Argentina        University of Buenos Aires     1821  Public   \n",
       "4        Australia                 Monash University     1958  Public   \n",
       "..             ...                               ...      ...     ...   \n",
       "65          Turkey                Anadolu University     1958  Public   \n",
       "66  United Kingdom                   Open University     1969  Public   \n",
       "67   United States              Texas A&M University     1876  Public   \n",
       "68         Uruguay        University of the Republic     1949  Public   \n",
       "69       Venezuela  Universidad Central de Venezuela     1721  Public   \n",
       "\n",
       "   Enrollment                                               Link  \n",
       "0       35000  https://en.wikipedia.org/wiki/University_of_Ti...  \n",
       "1       85000  https://en.wikipedia.org/wiki/List_of_universi...  \n",
       "2       29827  https://en.wikipedia.org/wiki/Agostinho_Neto_U...  \n",
       "3      311175  https://en.wikipedia.org/wiki/University_of_Bu...  \n",
       "4       73807    https://en.wikipedia.org/wiki/Monash_University  \n",
       "..        ...                                                ...  \n",
       "65    1969733   https://en.wikipedia.org/wiki/Anadolu_University  \n",
       "66     253075      https://en.wikipedia.org/wiki/Open_University  \n",
       "67      73284  https://en.wikipedia.org/wiki/Texas_A%26M_Univ...  \n",
       "68     144108  https://en.wikipedia.org/wiki/University_of_th...  \n",
       "69      41059  https://en.wikipedia.org/wiki/Universidad_Cent...  \n",
       "\n",
       "[70 rows x 6 columns]"
      ]
     },
     "execution_count": 45,
     "metadata": {},
     "output_type": "execute_result"
    }
   ],
   "source": [
    "df"
   ]
  },
  {
   "cell_type": "code",
   "execution_count": 46,
   "metadata": {},
   "outputs": [],
   "source": [
    "df['Enrollment'] = df['Enrollment'].astype(int)"
   ]
  },
  {
   "cell_type": "code",
   "execution_count": 47,
   "metadata": {},
   "outputs": [
    {
     "name": "stdout",
     "output_type": "stream",
     "text": [
      "<class 'pandas.core.frame.DataFrame'>\n",
      "RangeIndex: 70 entries, 0 to 69\n",
      "Data columns (total 6 columns):\n",
      " #   Column      Non-Null Count  Dtype \n",
      "---  ------      --------------  ----- \n",
      " 0   Country     70 non-null     object\n",
      " 1   University  70 non-null     object\n",
      " 2   Founded     70 non-null     int64 \n",
      " 3   Type        70 non-null     object\n",
      " 4   Enrollment  70 non-null     int64 \n",
      " 5   Link        70 non-null     object\n",
      "dtypes: int64(2), object(4)\n",
      "memory usage: 3.4+ KB\n"
     ]
    }
   ],
   "source": [
    "df.info()"
   ]
  },
  {
   "cell_type": "code",
   "execution_count": 50,
   "metadata": {},
   "outputs": [
    {
     "data": {
      "text/plain": [
       "array(['Albania', 'Algeria', 'Angola', 'Argentina', 'Australia',\n",
       "       'Austria', 'Bangladesh', 'Belarus', 'Belgium',\n",
       "       'Bosnia and Herzegovina', 'Botswana', 'Brazil', 'Bulgaria',\n",
       "       'Canada', 'China', 'Colombia', 'Costa Rica', 'Croatia', 'Denmark',\n",
       "       'Dominican Republic', 'Egypt', 'Estonia', 'Finland', 'France',\n",
       "       'Germany', 'Greece', 'Guatemala', 'Hong Kong', 'Iceland', 'India',\n",
       "       'Indonesia', 'Iran', 'Ireland', 'Israel', 'Italy', 'Japan',\n",
       "       'Kenya', 'Kosovo', 'Lithuania', 'Macau', 'Malaysia', 'Mexico',\n",
       "       'Nepal', 'Netherlands', 'New Zealand', 'North Macedonia', 'Norway',\n",
       "       'Pakistan', 'Peru', 'Philippines', 'Poland', 'Portugal', 'Romania',\n",
       "       'Russia', 'Saudi Arabia', 'Singapore', 'Slovenia', 'South Africa',\n",
       "       'South Korea', 'Spain', 'Sweden', 'Switzerland', 'Taiwan',\n",
       "       'Thailand', 'Trinidad and Tobago', 'Turkey', 'United Kingdom',\n",
       "       'United States', 'Uruguay', 'Venezuela'], dtype=object)"
      ]
     },
     "execution_count": 50,
     "metadata": {},
     "output_type": "execute_result"
    }
   ],
   "source": [
    "df['Country'].values"
   ]
  },
  {
   "cell_type": "code",
   "execution_count": 51,
   "metadata": {},
   "outputs": [],
   "source": [
    "df.to_csv('universities_cleaned.csv', index=False)"
   ]
  },
  {
   "cell_type": "code",
   "execution_count": null,
   "metadata": {},
   "outputs": [],
   "source": []
  }
 ],
 "metadata": {
  "kernelspec": {
   "display_name": "Python 3",
   "language": "python",
   "name": "python3"
  },
  "language_info": {
   "codemirror_mode": {
    "name": "ipython",
    "version": 3
   },
   "file_extension": ".py",
   "mimetype": "text/x-python",
   "name": "python",
   "nbconvert_exporter": "python",
   "pygments_lexer": "ipython3",
   "version": "3.10.6"
  },
  "orig_nbformat": 4,
  "vscode": {
   "interpreter": {
    "hash": "642064d6682895ce89076f48e861d152b9983fc89c002f1208454c778ee2078f"
   }
  }
 },
 "nbformat": 4,
 "nbformat_minor": 2
}
