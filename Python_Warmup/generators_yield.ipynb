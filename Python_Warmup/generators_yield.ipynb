{
 "cells": [
  {
   "cell_type": "markdown",
   "metadata": {},
   "source": [
    "Understanding the Key Workings of Python Generators\n",
    "\n",
    "Reason:\n",
    "- have you ever ahd to work with a dataset so large that it overwhelmed your machines' memory? Or maybe you have a complex function that needs to maintain an internal state\n",
    "everytime it is called, but the function is too small to justify creating its own class. In this case and more, generators and the python yield statememt are here to help"
   ]
  },
  {
   "cell_type": "markdown",
   "metadata": {},
   "source": [
    "Generator functions are a special kind of functions that return a lazy iterator. These are objects that you can loop over like a list. However, unlike lists, lazy iterators do not store their contents in memory."
   ]
  },
  {
   "cell_type": "markdown",
   "metadata": {},
   "source": [
    "Example 1 - Reading Large Files\n",
    "A common use case of generators is work with data streams or large files, like CSV files. These text files seperate data into columns by using commas. This format is a common way to share data."
   ]
  },
  {
   "cell_type": "code",
   "execution_count": null,
   "metadata": {},
   "outputs": [],
   "source": [
    "def csv_reader(file_name):\n",
    "    file = open(file_name)\n",
    "    result = file.read().split('\\n')\n",
    "    return result\n",
    "\n",
    "csv_gen = csv_reader('some_csv.txt')\n",
    "row_count = 0\n",
    "\n",
    "for row in csv_gen:\n",
    "    row_count += 1\n",
    "\n",
    "print(f\"Row Count is: {row_count}\")"
   ]
  },
  {
   "cell_type": "markdown",
   "metadata": {},
   "source": [
    "In the above version, the computer will probably slow down, because of a probable memory error (MemoryError)"
   ]
  },
  {
   "cell_type": "code",
   "execution_count": 1,
   "metadata": {},
   "outputs": [
    {
     "name": "stdout",
     "output_type": "stream",
     "text": [
      "Row Count is: 1461\n"
     ]
    }
   ],
   "source": [
    "def csv_reader(file_name):\n",
    "    for row in open(file_name,  \"r\"):\n",
    "        yield row\n",
    "\n",
    "csv_gen = csv_reader('techcrunch.csv')\n",
    "row_count =0\n",
    "\n",
    "for row in csv_gen:\n",
    "    row_count += 1\n",
    "\n",
    "print(f\"Row Count is: {row_count}\")"
   ]
  },
  {
   "cell_type": "markdown",
   "metadata": {},
   "source": [
    "From the above, csv_reader() has been turned into a generator function. This version opens files, loops through each line, and yields each row, instead of retuning it.\n",
    "\n",
    "Generator expression (also called a generator comprehension), which has a very similar syntax to list comprehensions. In this way, the generator can be used without calling a function."
   ]
  },
  {
   "cell_type": "markdown",
   "metadata": {},
   "source": [
    "Example 2: Generating an infinite sequence"
   ]
  },
  {
   "cell_type": "code",
   "execution_count": 2,
   "metadata": {},
   "outputs": [
    {
     "data": {
      "text/plain": [
       "[0, 1, 2, 3, 4]"
      ]
     },
     "execution_count": 2,
     "metadata": {},
     "output_type": "execute_result"
    }
   ],
   "source": [
    "a = range(5)\n",
    "list(a)\n"
   ]
  },
  {
   "cell_type": "code",
   "execution_count": 5,
   "metadata": {},
   "outputs": [],
   "source": [
    "def infinite_sequence():\n",
    "    num = 0\n",
    "    while True:\n",
    "        yield num\n",
    "        num += 1\n",
    "    "
   ]
  },
  {
   "cell_type": "markdown",
   "metadata": {},
   "source": [
    "Example 3: Detecting Palindromes\n",
    "- You can use infinite sequences in many ways, but one practical use for them is in building palindrome detectors. A palindrome detector is will locate all sequences of letters or numbers\n",
    "that are palindromes. These are words or numbers that are read the same forward and backward, like 121"
   ]
  },
  {
   "cell_type": "code",
   "execution_count": 9,
   "metadata": {},
   "outputs": [
    {
     "data": {
      "text/plain": [
       "<generator object <genexpr> at 0x104f70d60>"
      ]
     },
     "execution_count": 9,
     "metadata": {},
     "output_type": "execute_result"
    }
   ],
   "source": [
    "def is_palindrome(num):\n",
    "    if num // 10 == 0:\n",
    "        return False\n",
    "    temp = num\n",
    "    reversed_num = 0\n",
    "\n",
    "    while temp != 0:\n",
    "        reversed_num = (reversed_num * 10) + (temp % 10)\n",
    "        temp = temp // 10\n",
    "    \n",
    "    if num == reversed_num:\n",
    "        return num\n",
    "    else:\n",
    "        return False\n",
    "\n",
    "nums_squared_lc = [num**2 for num in range(5)]\n",
    "nums_squared_lc\n",
    "nums_squared_gc = (num**2 for num in range(5))\n",
    "nums_squared_gc"
   ]
  },
  {
   "cell_type": "markdown",
   "metadata": {},
   "source": [
    "Profiling Generator Performance\n",
    "- generators are a great way to optimize memory. While an infinite sequence generator is an extreme example of this optimization"
   ]
  },
  {
   "cell_type": "code",
   "execution_count": 11,
   "metadata": {},
   "outputs": [
    {
     "name": "stdout",
     "output_type": "stream",
     "text": [
      "104\n"
     ]
    }
   ],
   "source": [
    "import sys\n",
    "nums_squared_gc = [i ** 2 for i in range(10000)]\n",
    "sys.getsizeof(nums_squared_gc)\n",
    "nums_squared_gc = (i ** 2 for i in range(10000))\n",
    "print(sys.getsizeof(nums_squared_gc))"
   ]
  },
  {
   "cell_type": "markdown",
   "metadata": {},
   "source": [
    "From above the list comprehension is 87,624 bytes, while the generator object is only 104, This means that the list is over 700 times larger than the generator object\n",
    "There is one thing to keep in mind also, if the list is smaller than the running machine's available memory, then list comprehension can be faster to evaluate than the equivalent generator expression. To explore this, below, sum across two results from the two comprehensions"
   ]
  },
  {
   "cell_type": "code",
   "execution_count": 13,
   "metadata": {},
   "outputs": [
    {
     "name": "stdout",
     "output_type": "stream",
     "text": [
      "         5 function calls in 0.001 seconds\n",
      "\n",
      "   Ordered by: standard name\n",
      "\n",
      "   ncalls  tottime  percall  cumtime  percall filename:lineno(function)\n",
      "        1    0.001    0.001    0.001    0.001 <string>:1(<listcomp>)\n",
      "        1    0.000    0.000    0.001    0.001 <string>:1(<module>)\n",
      "        1    0.000    0.000    0.001    0.001 {built-in method builtins.exec}\n",
      "        1    0.000    0.000    0.000    0.000 {built-in method builtins.sum}\n",
      "        1    0.000    0.000    0.000    0.000 {method 'disable' of '_lsprof.Profiler' objects}\n",
      "\n",
      "\n"
     ]
    }
   ],
   "source": [
    "import cProfile\n",
    "cProfile.run('sum([i*2 for i in range(10000)])')\n"
   ]
  },
  {
   "cell_type": "code",
   "execution_count": 14,
   "metadata": {},
   "outputs": [
    {
     "name": "stdout",
     "output_type": "stream",
     "text": [
      "         10005 function calls in 0.001 seconds\n",
      "\n",
      "   Ordered by: standard name\n",
      "\n",
      "   ncalls  tottime  percall  cumtime  percall filename:lineno(function)\n",
      "    10001    0.001    0.000    0.001    0.000 <string>:1(<genexpr>)\n",
      "        1    0.000    0.000    0.001    0.001 <string>:1(<module>)\n",
      "        1    0.000    0.000    0.001    0.001 {built-in method builtins.exec}\n",
      "        1    0.000    0.000    0.001    0.001 {built-in method builtins.sum}\n",
      "        1    0.000    0.000    0.000    0.000 {method 'disable' of '_lsprof.Profiler' objects}\n",
      "\n",
      "\n"
     ]
    }
   ],
   "source": [
    "cProfile.run('sum((i*2 for i in range(10000)))')"
   ]
  },
  {
   "cell_type": "markdown",
   "metadata": {},
   "source": [
    "Understanding the Python Yield Statement\n",
    "\n",
    "On the whole, the primary job of yield is to control the flow of a generator function in a way that's similar to return statements. \n",
    "When you call a generator function or use a generator expression, you return a special ITERATOR called a generator. WHen you call special methods on the generator, such as next(), the code within the function is executed up to yield.\n",
    "\n",
    "WHen the python yield statement is hit, the program suspends function execution and returns the yielded value to the caller. (In contrast, return stops function execution completely.) When a function is suspended, the state of the function is saved. This includes any variable bindings local to the generator, the instruction pointer, the internal stack, and any exception handling\n",
    "\n",
    "This allows you to resume function execution whenever you call one of the generator's methods. In this way, all function evaluation picks back up right after the yield. This is fairly visible when using\n",
    "multiple yield statements."
   ]
  },
  {
   "cell_type": "code",
   "execution_count": null,
   "metadata": {},
   "outputs": [
    {
     "name": "stdout",
     "output_type": "stream",
     "text": [
      "This will print the first string\n"
     ]
    }
   ],
   "source": [
    "def multi_yield():\n",
    "    yield_str = \"This will print the first string\"\n",
    "    yield yield_str\n",
    "    yield_str = \"This will print the second string\"\n",
    "    yield yield_str\n",
    "\n",
    "multi_obj = multi_yield()\n",
    "print(next(multi_obj))\n"
   ]
  },
  {
   "cell_type": "code",
   "execution_count": 17,
   "metadata": {},
   "outputs": [
    {
     "name": "stdout",
     "output_type": "stream",
     "text": [
      "This will print the second string\n"
     ]
    }
   ],
   "source": [
    "print(next(multi_obj))"
   ]
  },
  {
   "cell_type": "code",
   "execution_count": 18,
   "metadata": {},
   "outputs": [
    {
     "ename": "StopIteration",
     "evalue": "",
     "output_type": "error",
     "traceback": [
      "\u001b[0;31m---------------------------------------------------------------------------\u001b[0m",
      "\u001b[0;31mStopIteration\u001b[0m                             Traceback (most recent call last)",
      "Cell \u001b[0;32mIn[18], line 1\u001b[0m\n\u001b[0;32m----> 1\u001b[0m \u001b[38;5;28mprint\u001b[39m(\u001b[38;5;28;43mnext\u001b[39;49m\u001b[43m(\u001b[49m\u001b[43mmulti_obj\u001b[49m\u001b[43m)\u001b[49m)\n",
      "\u001b[0;31mStopIteration\u001b[0m: "
     ]
    }
   ],
   "source": [
    "print(next(multi_obj))"
   ]
  },
  {
   "cell_type": "markdown",
   "metadata": {},
   "source": [
    "From the above, the last next() call, the execution has blown up with a traceback. This is because generators, like all iterators, can be exhausted. Unless the generator is infinite, you can iterate through it one time only. Once values have been evaluated, iteration will stop and for the loop will exit. If you used next(), then instead you will get an explicit StopIteration exception"
   ]
  },
  {
   "cell_type": "markdown",
   "metadata": {},
   "source": [
    "Using Advanced Generator Methods\n",
    ".send()\n",
    ".throw()\n",
    ".close()"
   ]
  },
  {
   "cell_type": "markdown",
   "metadata": {},
   "source": [
    "Using .send()\n",
    "\n",
    "the idea is to build a program that makes use of all three methods. This program will print numeric palindromes like before, but with a few tweaks. Upon encountering a palindrome, program will add a digit and start a search for the next one from there. Exceptins will be handled with .throw() and stop the generator after a given amount of digits with .close(). "
   ]
  },
  {
   "cell_type": "code",
   "execution_count": 22,
   "metadata": {},
   "outputs": [
    {
     "name": "stdout",
     "output_type": "stream",
     "text": [
      "11\n",
      "111\n",
      "1111\n",
      "10101\n"
     ]
    },
    {
     "ename": "StopIteration",
     "evalue": "",
     "output_type": "error",
     "traceback": [
      "\u001b[0;31m---------------------------------------------------------------------------\u001b[0m",
      "\u001b[0;31mStopIteration\u001b[0m                             Traceback (most recent call last)",
      "Cell \u001b[0;32mIn[22], line 33\u001b[0m\n\u001b[1;32m     30\u001b[0m \u001b[38;5;28;01mif\u001b[39;00m digits \u001b[38;5;241m==\u001b[39m \u001b[38;5;241m5\u001b[39m:\n\u001b[1;32m     31\u001b[0m     \u001b[38;5;66;03m# pal_gen.throw(ValueError(\"We do not like large palindromes\"))\u001b[39;00m\n\u001b[1;32m     32\u001b[0m     pal_gen\u001b[38;5;241m.\u001b[39mclose()\n\u001b[0;32m---> 33\u001b[0m \u001b[43mpal_gen\u001b[49m\u001b[38;5;241;43m.\u001b[39;49m\u001b[43msend\u001b[49m\u001b[43m(\u001b[49m\u001b[38;5;241;43m10\u001b[39;49m\u001b[43m \u001b[49m\u001b[38;5;241;43m*\u001b[39;49m\u001b[38;5;241;43m*\u001b[39;49m\u001b[43m \u001b[49m\u001b[43m(\u001b[49m\u001b[43mdigits\u001b[49m\u001b[43m)\u001b[49m\u001b[43m)\u001b[49m\n",
      "\u001b[0;31mStopIteration\u001b[0m: "
     ]
    }
   ],
   "source": [
    "def is_palindrome(num):\n",
    "    # skip single digit values\n",
    "    if num // 10 == 0:\n",
    "        return False\n",
    "    temp = num\n",
    "    reversed_num = 0\n",
    "\n",
    "    while temp != 0:\n",
    "        reversed_num = (reversed_num * 10) + (temp % 10)\n",
    "        temp = temp // 10\n",
    "    \n",
    "    if num == reversed_num:\n",
    "        return True\n",
    "    else:\n",
    "        return False\n",
    "\n",
    "def infinte_palindromes():\n",
    "    num = 0\n",
    "    while True:\n",
    "        if is_palindrome(num):\n",
    "            i = (yield num)\n",
    "            if i is not None:\n",
    "                num = i\n",
    "        num += 1\n",
    "\n",
    "pal_gen = infinte_palindromes()\n",
    "for i in pal_gen:\n",
    "    print(i)\n",
    "    digits = len(str(i))\n",
    "    if digits == 5:\n",
    "        # pal_gen.throw(ValueError(\"We do not like large palindromes\"))\n",
    "        pal_gen.close()\n",
    "    pal_gen.send(10 ** (digits))\n"
   ]
  },
  {
   "cell_type": "markdown",
   "metadata": {},
   "source": [
    "Creating Data Pipelines with Generators\n",
    "Data pipelines allow you to string together code to process large datasets or streams of data without maxing machine memory. \n",
    "\n",
    "Strategy:\n",
    "1. Read every line of the file\n",
    "2. Split each line into a list of values\n",
    "3. Extract the column names\n",
    "4. Use the column names and list to create a dictionary\n",
    "5. filter out the rounds you are not interested in\n",
    "6. Calculate the total and average values for the rounds you are interested in."
   ]
  },
  {
   "cell_type": "code",
   "execution_count": 25,
   "metadata": {},
   "outputs": [
    {
     "name": "stdout",
     "output_type": "stream",
     "text": [
      "Total series a fund raising: $4380015000\n"
     ]
    }
   ],
   "source": [
    "file_name = \"techcrunch.csv\"\n",
    "lines = (line for line in open(file_name))\n",
    "list_line = (s.rstrip().split(\",\") for s in lines)\n",
    "cols = next(list_line)\n",
    "\n",
    "\"\"\"\n",
    "    From above you first create a generator expression lines to yield each line in a file. Next you iterate through that generator within the definition of another generator expression\n",
    "    called list_line, which turns each line in to a list of values. Then you advance the iteration of list_line just once with the next() to get a list of column names from your csv file.\n",
    "\n",
    "    .rstrip() make sure that there are no trailing newline characters, which can be present in the CSV files\n",
    "\"\"\"\n",
    "company_dicts = (dict(zip(cols, data)) for data in list_line)\n",
    "\n",
    "\"\"\"\n",
    "    the generator expression iterates through the list produced by list_line. THen it uses zip() and dict() to create the dictionary as specified above. Below is another generator\n",
    "    to filter the funding round you want and pull raisedAmount as well\n",
    "\"\"\"\n",
    "funding = (\n",
    "    int(company_dict[\"raisedAmt\"])\n",
    "    for company_dict in company_dicts\n",
    "    if company_dict['round'] == \"a\"\n",
    ")\n",
    "\n",
    "\"\"\"\n",
    "    in this code snippet the generator iterates the results of company dicts and take the raisedAmount for any company_dict where the round key is a\n",
    "    remember that you are not iterating through all these at once in the generator expression. In fact you are not iterating through anything you actually use a for loop or a function that \n",
    "    works on iterables, like sum(). In fact, call sum() num to iterate through the generators\n",
    "\"\"\"\n",
    "total_series_a = sum(funding)\n",
    "print(f\"Total series a fund raising: ${total_series_a}\")"
   ]
  },
  {
   "cell_type": "markdown",
   "metadata": {},
   "source": [
    "Review Questions:\n",
    "1. What is a generator function\n",
    " - a function that returns a lazy iterator\n",
    " - A generator function in Python is a special kind of function that returns a lazy iterator. These iterators allow you to loop over the items they generate without storing all items in memory at the same time.\n",
    " -Introduced with PEP 255, generator functions are a powerful feature for creating iterators that you can work with in a memory-efficient way.\n",
    "\n",
    "\n",
    "2. What’s a key difference between a list and a generator?\n",
    "    - Generators do not store their contents in memory\n",
    "    - A key difference between a list and a generator in Python is that generators don’t store their contents in memory, while lists do. This makes generators lazy iterators, meaning they generate their elements on the fly, as you request them, instead of storing them all upfront.\n",
    "    - This can be a big advantage when you’re working with large datasets or when you’re generating a sequence of results that you only need to process one at a time.\n",
    "\n",
    "3. What is the difference between yield and return in a Python function?\n",
    "    - yield sends a value back to the caller and remembers the statre of the funciton for the next call, while return sends a value back and exits the function.\n",
    "    - You can use the yield keyword in a function like a return statement.\n",
    "    - However, yield returns a value and pauses the function’s execution while keeping the function’s state. You can resume the function with the next call right where it left off, which allows the function to generate a series of values over time instead of computing all values at once.\n",
    "    - This is why functions that contain a yield statement are called generators.\n",
    "\n",
    "4. The yield statement in a generator function suspends the function execution and returns the yielded value to the caller.\n",
    "    - You can then resume the function from the same point the next time you’re calling one of the generator’s methods. This is different from return, which finishes function execution completely.\n",
    "    - Once you’ve fully iterated over a generator, it raises a StopIteration exception to signal that it’s exhausted.\n",
    "\n",
    "5. What is the main difference between generator expression and list comprehension in python?\n",
    "    - a generator expression does not build and hold the entire data in memory before iteration. During iteration, the generator only generates one item at a time.\n",
    "    - This means that you won’t have a memory penalty when you use generator expressions.\n",
    "\n",
    "6. What does .send() do in the context of a Python generator?\n",
    "    - In the context of a Python generator, you can use .send() to send a value back to the generator.\n",
    "    - When you use yield as an expression, then you can use .send() to manipulate the yielded value. This allows you to update the state of the generator from outside the generator function.\n",
    "\n",
    "7. What does .throw() do in a python generator?\n",
    "    - The .throw() method allows you to throw exceptions within a Python generator.\n",
    "    - For example, you can use .throw() to control when you stop iterating through the generator.\n",
    "\n",
    "8. In Python, you can stop a generator by calling its .close() method. This method raises a StopIteration exception, which you can use to signal the end of a finite iterator.\n",
    "9. What happens when you iterate over a generator fully?\n",
    "    - When you fully iterate over a generator, then it exhausts itself.\n",
    "    - This means that you can’t iterate over the same generator again. If you try to do so, the generator won’t yield any more values."
   ]
  },
  {
   "cell_type": "code",
   "execution_count": null,
   "metadata": {},
   "outputs": [],
   "source": []
  },
  {
   "cell_type": "code",
   "execution_count": null,
   "metadata": {},
   "outputs": [],
   "source": []
  },
  {
   "cell_type": "code",
   "execution_count": null,
   "metadata": {},
   "outputs": [],
   "source": []
  },
  {
   "cell_type": "code",
   "execution_count": null,
   "metadata": {},
   "outputs": [],
   "source": []
  },
  {
   "cell_type": "code",
   "execution_count": null,
   "metadata": {},
   "outputs": [],
   "source": []
  },
  {
   "cell_type": "code",
   "execution_count": null,
   "metadata": {},
   "outputs": [],
   "source": []
  },
  {
   "cell_type": "code",
   "execution_count": null,
   "metadata": {},
   "outputs": [],
   "source": []
  },
  {
   "cell_type": "code",
   "execution_count": null,
   "metadata": {},
   "outputs": [],
   "source": []
  },
  {
   "cell_type": "code",
   "execution_count": null,
   "metadata": {},
   "outputs": [],
   "source": []
  },
  {
   "cell_type": "code",
   "execution_count": null,
   "metadata": {},
   "outputs": [],
   "source": []
  },
  {
   "cell_type": "code",
   "execution_count": null,
   "metadata": {},
   "outputs": [],
   "source": []
  },
  {
   "cell_type": "code",
   "execution_count": null,
   "metadata": {},
   "outputs": [],
   "source": []
  },
  {
   "cell_type": "code",
   "execution_count": null,
   "metadata": {},
   "outputs": [],
   "source": []
  },
  {
   "cell_type": "code",
   "execution_count": null,
   "metadata": {},
   "outputs": [],
   "source": []
  },
  {
   "cell_type": "code",
   "execution_count": null,
   "metadata": {},
   "outputs": [],
   "source": []
  },
  {
   "cell_type": "code",
   "execution_count": null,
   "metadata": {},
   "outputs": [],
   "source": []
  },
  {
   "cell_type": "code",
   "execution_count": null,
   "metadata": {},
   "outputs": [],
   "source": []
  },
  {
   "cell_type": "code",
   "execution_count": null,
   "metadata": {},
   "outputs": [],
   "source": []
  },
  {
   "cell_type": "code",
   "execution_count": null,
   "metadata": {},
   "outputs": [],
   "source": []
  },
  {
   "cell_type": "code",
   "execution_count": null,
   "metadata": {},
   "outputs": [],
   "source": []
  },
  {
   "cell_type": "code",
   "execution_count": null,
   "metadata": {},
   "outputs": [],
   "source": []
  },
  {
   "cell_type": "code",
   "execution_count": null,
   "metadata": {},
   "outputs": [],
   "source": []
  },
  {
   "cell_type": "code",
   "execution_count": null,
   "metadata": {},
   "outputs": [],
   "source": []
  },
  {
   "cell_type": "code",
   "execution_count": null,
   "metadata": {},
   "outputs": [],
   "source": []
  }
 ],
 "metadata": {
  "kernelspec": {
   "display_name": "Python 3",
   "language": "python",
   "name": "python3"
  },
  "language_info": {
   "codemirror_mode": {
    "name": "ipython",
    "version": 3
   },
   "file_extension": ".py",
   "mimetype": "text/x-python",
   "name": "python",
   "nbconvert_exporter": "python",
   "pygments_lexer": "ipython3",
   "version": "3.10.6"
  }
 },
 "nbformat": 4,
 "nbformat_minor": 2
}
