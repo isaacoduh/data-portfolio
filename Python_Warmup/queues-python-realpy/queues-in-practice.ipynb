{
 "cells": [
  {
   "cell_type": "code",
   "execution_count": null,
   "metadata": {},
   "outputs": [],
   "source": [
    "cities_uk = {\n",
    "    \"northern_ireland\": {\n",
    "        \"armagh\": {\n",
    "            \"year\": 1994, \"latitude\": 54.3499, \"longitude\": -6.6546, \"label\": \"Armagh\",\n",
    "            \"connections\": {\"derry\": 61, \"newry\": 19}\n",
    "        },\n",
    "        \"belfast\": {\n",
    "            \"year\": 1888, \"latitude\": 54.596389, \"longitude\": -5.93, \"label\": \"Belfast\",\n",
    "            \"connections\": {\"derry\": 71, \"lisburn\": 9}\n",
    "        },\n",
    "        \"derry\": {\n",
    "            \"year\": 1604, \"latitude\": 54.9975, \"longitude\": -7.32, \"label\": \"Derry\",\n",
    "            \"connections\": {\"armagh\": 61, \"belfast\": 71}\n",
    "        },\n",
    "        \"lisburn\": {\n",
    "            \"year\": 2002, \"latitude\": 54.512, \"longitude\": -6.031, \"label\": \"Lisburn\",\n",
    "            \"connections\": {\"armagh\": 32, \"belfast\": 9, \"newry\": 31}\n",
    "        },\n",
    "        \"newry\": {\n",
    "            \"year\": 2002, \"latitude\": 54.176, \"longitude\": -6.349, \"label\": \"Newry\",\n",
    "            \"connections\": {\"armagh\": 19, \"lisburn\": 31}\n",
    "        },\n",
    "    },\n",
    "    \"wales\": {\n",
    "        \"bangor\": {\n",
    "            \"year\": 0, \"latitude\": 53.228, \"longitude\": -4.128, \"label\": \"Bangor\",\n",
    "            \"connections\": {\"cardiff\": 185, \"st_davids\": 157, \"chester\": 60, \"st_asaph\": 34}\n",
    "        },\n",
    "        \"cardiff\": {\n",
    "            \"year\": 1905, \"latitude\": 51.481667, \"longitude\": -3.179167, \"label\": \"Cardiff\",\n",
    "            \"connections\": {\"bangor\": 185, \"newport\": 13, \"swansea\": 43}\n",
    "        },\n",
    "        \"newport\": {\n",
    "            \"year\": 2002, \"latitude\": 51.583333, \"longitude\": -3, \"label\": \"Newport\",\n",
    "            \"connections\": {\"cardiff\": 13, \"gloucester\": 53, \"hereford\": 45, \"swansea\": 50}\n",
    "        },\n",
    "        \"st_asaph\": {\n",
    "            \"year\": 2012, \"latitude\": 53.258, \"longitude\": -3.442, \"label\": \"St Asaph\",\n",
    "            \"connections\": {\"bangor\": 34, \"chester\": 30, \"st_davids\": 151, \"swansea\": 152}\n",
    "        },\n",
    "        \"st_davids\": {\n",
    "            \"year\": 1994, \"latitude\": 51.882, \"longitude\": -5.269, \"label\": \"St Davids\",\n",
    "            \"connections\": {\"bangor\": 157, \"st_asaph\": 151, \"swansea\": 73}\n",
    "        },\n",
    "        \"swansea\": {\n",
    "            \"year\": 1969, \"latitude\": 51.616667, \"longitude\": -3.95, \"label\": \"Swansea\",\n",
    "            \"connections\": {\"cardiff\": 43, \"st_davids\": 73, \"newport\": 50}\n",
    "        },\n",
    "    },\n",
    "    \"scotland\": {\n",
    "        \"aberdeen\": {\n",
    "            \"year\": 1891, \"latitude\": 57.15, \"longitude\": -2.11, \"label\": \"Aberdeen\",\n",
    "            \"connections\": {\"dundee\": 66, \"inverness\": 103}\n",
    "        },\n",
    "        \"dundee\": {\n",
    "            \"year\": 1889, \"latitude\": 56.462, \"longitude\": -2.9707, \"label\": \"Dundee\",\n",
    "            \"connections\": {\"aberdeen\": 66, \"edinburgh\": 57, \"perth\": 22}\n",
    "        },\n",
    "        \"edinburgh\": {\n",
    "            \"year\": 1329, \"latitude\": 55.953333, \"longitude\": -3.189167, \"label\": \"Edinburgh\",\n",
    "            \"connections\": {\"carlisle\": 100, \"dundee\": 57, \"glasgow\": 47, \"perth\": 44, \"stirling\": 37}\n",
    "        },\n",
    "        \"glasgow\": {\n",
    "            \"year\": 1492, \"latitude\": 55.861111, \"longitude\": -4.25, \"label\": \"Glasgow\",\n",
    "            \"connections\": {\"edinburgh\": 47, \"stirling\": 29, \"carlisle\": 96}\n",
    "        },\n",
    "        \"inverness\": {\n",
    "            \"year\": 2001, \"latitude\": 57.4778, \"longitude\": -4.2247, \"label\": \"Inverness\",\n",
    "            \"connections\": {\"aberdeen\": 103, \"perth\": 112}\n",
    "        },\n",
    "        \"perth\": {\n",
    "            \"year\": 2012, \"latitude\": 56.395833, \"longitude\": -3.433333, \"label\": \"Perth\",\n",
    "            \"connections\": {\"dundee\": 22, \"edinburgh\": 44, \"inverness\": 112, \"stirling\": 37}\n",
    "        },\n",
    "        \"stirling\": {\n",
    "            \"year\": 2002, \"latitude\": 56.1166, \"longitude\": -3.9369, \"label\": \"Stirling\",\n",
    "            \"connections\": {\"edinburgh\": 37, \"glasgow\": 29, \"perth\": 37}\n",
    "        },\n",
    "    },\n",
    "    \"england\": {\n",
    "        \"bath\": {\n",
    "            \"year\": 1090, \"latitude\": 51.38, \"longitude\": -2.36, \"label\": \"Bath\",\n",
    "            \"connections\": {\"wells\": 20, \"bristol\": 13, \"london\": 115, \"salisbury\": 44}\n",
    "        },\n",
    "        \"birmingham\": {\n",
    "            \"year\": 1889, \"latitude\": 52.48, \"longitude\": -1.9025, \"label\": \"Birmingham\",\n",
    "            \"connections\": {\"coventry\": 24, \"stoke_on_trent\": 45, \"worcester\": 41}\n",
    "        },\n",
    "        # (Add other cities similarly)\n",
    "    }\n",
    "}\n"
   ]
  },
  {
   "cell_type": "code",
   "execution_count": null,
   "metadata": {},
   "outputs": [],
   "source": [
    "from typing import NamedTuple\n",
    "\n",
    "class City(NamedTuple):\n",
    "    name: str\n",
    "    country: str\n",
    "    year: int | None\n",
    "    latitude: float\n",
    "    longitude: float\n",
    "\n",
    "    @classmethod\n",
    "    def from_dict(cls, attrs):\n",
    "        return cls(\n",
    "            name=attrs[\"label\"], \n",
    "            country=attrs['country'],\n",
    "            year=int(attrs[\"year\"]) or None,\n",
    "            latitude=float(attrs[\"latitude\"]),\n",
    "            longitude=float(attrs[\"longitude\"])\n",
    "        )"
   ]
  },
  {
   "cell_type": "code",
   "execution_count": null,
   "metadata": {},
   "outputs": [],
   "source": []
  },
  {
   "cell_type": "code",
   "execution_count": null,
   "metadata": {},
   "outputs": [],
   "source": []
  },
  {
   "cell_type": "code",
   "execution_count": null,
   "metadata": {},
   "outputs": [],
   "source": []
  },
  {
   "cell_type": "code",
   "execution_count": null,
   "metadata": {},
   "outputs": [],
   "source": []
  },
  {
   "cell_type": "code",
   "execution_count": null,
   "metadata": {},
   "outputs": [],
   "source": []
  },
  {
   "cell_type": "code",
   "execution_count": null,
   "metadata": {},
   "outputs": [],
   "source": []
  },
  {
   "cell_type": "code",
   "execution_count": null,
   "metadata": {},
   "outputs": [],
   "source": []
  },
  {
   "cell_type": "code",
   "execution_count": null,
   "metadata": {},
   "outputs": [],
   "source": []
  },
  {
   "cell_type": "code",
   "execution_count": null,
   "metadata": {},
   "outputs": [],
   "source": []
  },
  {
   "cell_type": "code",
   "execution_count": null,
   "metadata": {},
   "outputs": [],
   "source": []
  },
  {
   "cell_type": "code",
   "execution_count": null,
   "metadata": {},
   "outputs": [],
   "source": []
  },
  {
   "cell_type": "code",
   "execution_count": null,
   "metadata": {},
   "outputs": [],
   "source": []
  },
  {
   "cell_type": "code",
   "execution_count": null,
   "metadata": {},
   "outputs": [],
   "source": []
  },
  {
   "cell_type": "code",
   "execution_count": null,
   "metadata": {},
   "outputs": [],
   "source": []
  },
  {
   "cell_type": "code",
   "execution_count": null,
   "metadata": {},
   "outputs": [],
   "source": []
  },
  {
   "cell_type": "code",
   "execution_count": null,
   "metadata": {},
   "outputs": [],
   "source": []
  },
  {
   "cell_type": "code",
   "execution_count": null,
   "metadata": {},
   "outputs": [],
   "source": []
  },
  {
   "cell_type": "code",
   "execution_count": null,
   "metadata": {},
   "outputs": [],
   "source": []
  },
  {
   "cell_type": "code",
   "execution_count": null,
   "metadata": {},
   "outputs": [],
   "source": []
  },
  {
   "cell_type": "code",
   "execution_count": null,
   "metadata": {},
   "outputs": [],
   "source": []
  },
  {
   "cell_type": "code",
   "execution_count": null,
   "metadata": {},
   "outputs": [],
   "source": []
  }
 ],
 "metadata": {
  "kernelspec": {
   "display_name": "Python 3",
   "language": "python",
   "name": "python3"
  },
  "language_info": {
   "name": "python",
   "version": "3.10.6"
  }
 },
 "nbformat": 4,
 "nbformat_minor": 2
}
