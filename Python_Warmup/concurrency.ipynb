{
 "cells": [
  {
   "cell_type": "markdown",
   "metadata": {},
   "source": [
    "Concurrency is an essential concept in programming, allowing applications to perform multiple tasks simultaneously."
   ]
  },
  {
   "cell_type": "markdown",
   "metadata": {},
   "source": [
    "Threads and Processes\n",
    "\n",
    "Processes\n",
    "- a process is an independent instance of a program in execution. Each process runs in its own memory space, with its own resources allocated by the operating\n",
    "system. Processes do not share memory with other processes unless explicitly designed to do so through inter-process communication (IPC).\n",
    "\n",
    "Threads\n",
    "- a thread is the smallest unit of execution within a process. Multiple threads within the same process share the same memory space, allowing them to communicate more efficienlty than seperate processes. However, this share memory can lead to synchronization issues."
   ]
  },
  {
   "cell_type": "code",
   "execution_count": 1,
   "metadata": {},
   "outputs": [
    {
     "name": "stdout",
     "output_type": "stream",
     "text": [
      "Thread: 0\n",
      "Thread: 1\n",
      "Thread: 2\n",
      "Thread: 3\n",
      "Thread: 4\n",
      "Main thread: Execution finished!\n"
     ]
    }
   ],
   "source": [
    "# creating a thread in python\n",
    "import threading\n",
    "import time\n",
    "\n",
    "def print_numbers():\n",
    "    for i in range(5):\n",
    "        print(f\"Thread: {i}\")\n",
    "        time.sleep(1)\n",
    "\n",
    "thread = threading.Thread(target=print_numbers)\n",
    "# start the thread\n",
    "thread.start()\n",
    "# wait for the thread to finish before exiting the main program\n",
    "thread.join()\n",
    "print(\"Main thread: Execution finished!\")"
   ]
  },
  {
   "cell_type": "markdown",
   "metadata": {},
   "source": [
    "From the above\n",
    "- threading.Thread(target=print_numbers): creates a thread that will run the print_numbers() function\n",
    "- thread.start(): begins the execution of the thread\n",
    "- thread.join(): Ensures that the main thread waits for the new thread to finish before continuing"
   ]
  },
  {
   "cell_type": "markdown",
   "metadata": {},
   "source": [
    "## Multithreading vs Multiprocessing\n",
    "\n",
    "### Multithreading\n",
    "Multithreading allows multiple threads to run concurrenlty within the same process. In python, true parallelism in multithreading is limited by the Global Interpreter Lock (GIL), which allows only one thread to execute Python bytecode at a time. However, multithreading is still useful for I/O-bound tasks, where threads can wait for external resources (like file I/O or network operations) while  others continue executing.\n"
   ]
  },
  {
   "cell_type": "code",
   "execution_count": 2,
   "metadata": {},
   "outputs": [
    {
     "name": "stdout",
     "output_type": "stream",
     "text": [
      "Worker 0 starting\n",
      "Worker 1 starting\n",
      "Worker 2 starting\n",
      "Worker 3 starting\n",
      "Worker 4 starting\n",
      "Worker 0 finishedWorker 2 finished\n",
      "Worker 3 finished\n",
      "Worker 1 finished\n",
      "Worker 4 finished\n",
      "\n"
     ]
    }
   ],
   "source": [
    "# multithreading in python\n",
    "import threading\n",
    "import time\n",
    "\n",
    "def worker(name):\n",
    "    print(f\"Worker {name} starting\")\n",
    "    time.sleep(2) # simulating I/O-bound work\n",
    "    print(f\"Worker {name} finished\")\n",
    "\n",
    "threads = []\n",
    "for i in range(5):\n",
    "    t = threading.Thread(target=worker, args=(i,))\n",
    "    threads.append(t)\n",
    "    t.start()\n",
    "\n",
    "for t in threads:\n",
    "    t.join() # wait for all threads to complete"
   ]
  },
  {
   "cell_type": "markdown",
   "metadata": {},
   "source": [
    "### Explanation\n",
    "- each thread simulates some I/O-bound work by sleeping for 2 seconds\n",
    "- thread.join(): Ensures that the main thread waits for all the worker threads to finish"
   ]
  },
  {
   "cell_type": "markdown",
   "metadata": {},
   "source": [
    "## MultiProcessing\n",
    "\n",
    "### Multiprocessing involves running multiple processes, each with its own python intepreter and memory space. This allows for true parallelism, making multiprocessing idea for CPU-bound tasks\n"
   ]
  },
  {
   "cell_type": "code",
   "execution_count": 7,
   "metadata": {},
   "outputs": [],
   "source": [
    "import multiprocessing\n",
    "import time\n",
    "\n",
    "def worker(name):\n",
    "    print(f\"Worker {name} starting\")\n",
    "    time.sleep(2) # simulate some work\n",
    "    print(f\"Worker {name} finished\")\n",
    "\n",
    "\n",
    "processes = []\n",
    "for i in range(5):\n",
    "    p = multiprocessing.Process(target=worker, args=(i,))\n",
    "    processes.append(p)\n",
    "    p.start()\n",
    "for p in processes:\n",
    "    p.join() # wait for all processes to finish\n",
    "\n"
   ]
  },
  {
   "cell_type": "markdown",
   "metadata": {},
   "source": [
    "### Async IO:\n",
    "\n",
    "asyncio is a python library for writing concurrent code using the async/await syntax. It is designed for I/O-bound tasks and uses an event loop to manage and schedule tasks\n",
    "\n",
    "#### key concepts in asyncio\n",
    "- coroutines: functions defined with async def. These are the building blocks of asyncio and represents tasks that can be paused and resumed.\n",
    "- event loops: the core of asyncio that manages the execution of tasks.\n",
    "- tasks: wrappers around coroutines that are scheduled on the event loop\n",
    "- await: pauses the execution of a coroutine, yielding control back to the event loop."
   ]
  },
  {
   "cell_type": "code",
   "execution_count": 10,
   "metadata": {},
   "outputs": [],
   "source": [
    "# async basics\n",
    "import asyncio\n",
    "\n",
    "async def task(name):\n",
    "    print(f\"Task {name} starting\")\n",
    "    await asyncio.sleep(2)\n",
    "    print(f\"Task {name} finished\")\n",
    "\n",
    "async def main():\n",
    "    await asyncio.gather(task(\"A\"), task(\"B\"), task(\"C\"))\n"
   ]
  },
  {
   "cell_type": "code",
   "execution_count": null,
   "metadata": {},
   "outputs": [],
   "source": []
  },
  {
   "cell_type": "code",
   "execution_count": null,
   "metadata": {},
   "outputs": [],
   "source": []
  },
  {
   "cell_type": "code",
   "execution_count": null,
   "metadata": {},
   "outputs": [],
   "source": []
  },
  {
   "cell_type": "code",
   "execution_count": null,
   "metadata": {},
   "outputs": [],
   "source": []
  },
  {
   "cell_type": "code",
   "execution_count": null,
   "metadata": {},
   "outputs": [],
   "source": []
  },
  {
   "cell_type": "code",
   "execution_count": null,
   "metadata": {},
   "outputs": [],
   "source": []
  },
  {
   "cell_type": "code",
   "execution_count": null,
   "metadata": {},
   "outputs": [],
   "source": []
  },
  {
   "cell_type": "code",
   "execution_count": null,
   "metadata": {},
   "outputs": [],
   "source": []
  },
  {
   "cell_type": "code",
   "execution_count": null,
   "metadata": {},
   "outputs": [],
   "source": []
  },
  {
   "cell_type": "code",
   "execution_count": null,
   "metadata": {},
   "outputs": [],
   "source": []
  },
  {
   "cell_type": "code",
   "execution_count": null,
   "metadata": {},
   "outputs": [],
   "source": []
  },
  {
   "cell_type": "code",
   "execution_count": null,
   "metadata": {},
   "outputs": [],
   "source": []
  },
  {
   "cell_type": "code",
   "execution_count": null,
   "metadata": {},
   "outputs": [],
   "source": []
  },
  {
   "cell_type": "code",
   "execution_count": null,
   "metadata": {},
   "outputs": [],
   "source": []
  },
  {
   "cell_type": "code",
   "execution_count": null,
   "metadata": {},
   "outputs": [],
   "source": []
  }
 ],
 "metadata": {
  "kernelspec": {
   "display_name": "Python 3",
   "language": "python",
   "name": "python3"
  },
  "language_info": {
   "codemirror_mode": {
    "name": "ipython",
    "version": 3
   },
   "file_extension": ".py",
   "mimetype": "text/x-python",
   "name": "python",
   "nbconvert_exporter": "python",
   "pygments_lexer": "ipython3",
   "version": "3.10.6"
  }
 },
 "nbformat": 4,
 "nbformat_minor": 2
}
