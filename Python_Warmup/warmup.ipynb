{
 "cells": [
  {
   "cell_type": "markdown",
   "metadata": {},
   "source": [
    "# Use Case Questions for Python Basics"
   ]
  },
  {
   "cell_type": "markdown",
   "metadata": {},
   "source": [
    "Question: Given a list of numbers, write a Python function to find the second highest number.\n",
    "\n",
    "Answer: We can first convert the list into a set to remove duplicates. Then, we'll convert it back to a list and sort it. We can retrieve the second last element to get the second highest number."
   ]
  },
  {
   "cell_type": "code",
   "execution_count": 14,
   "metadata": {},
   "outputs": [
    {
     "name": "stdout",
     "output_type": "stream",
     "text": [
      "5\n"
     ]
    }
   ],
   "source": [
    "def second_highest(numslist):\n",
    "    # convert to set to remove duplicates\n",
    "    newlist = list(set(numslist))\n",
    "    newlist.sort()\n",
    "    return newlist[-2]\n",
    "\n",
    "numbers = [1, 3, 2, 4, 4, 5, 6, 6]\n",
    "print(second_highest(numbers))"
   ]
  },
  {
   "cell_type": "markdown",
   "metadata": {},
   "source": [
    "Reverse a String\n",
    "\n",
    "Question: Reverse a given string.\n",
    "Answer: Let's break it down:\n",
    "\n",
    "- The general slice syntax is [start:stop:step]\n",
    "- When you leave start and stop empty (:), it means \"include everything\"\n",
    "- The -1 step means \"go backwards one position at a time\""
   ]
  },
  {
   "cell_type": "code",
   "execution_count": 20,
   "metadata": {},
   "outputs": [
    {
     "name": "stdout",
     "output_type": "stream",
     "text": [
      "olleh\n"
     ]
    }
   ],
   "source": [
    "def reverse_string(strs):\n",
    "    rStr = strs[::-1]\n",
    "    return rStr\n",
    "\n",
    "print(reverse_string('hello'))"
   ]
  },
  {
   "cell_type": "markdown",
   "metadata": {},
   "source": [
    "Check Palindrome\n"
   ]
  },
  {
   "cell_type": "code",
   "execution_count": 1,
   "metadata": {},
   "outputs": [
    {
     "name": "stdout",
     "output_type": "stream",
     "text": [
      "True\n"
     ]
    }
   ],
   "source": [
    "def is_palindrome(s):\n",
    "    return s == s[::-1]\n",
    "\n",
    "print(is_palindrome('racecar'))"
   ]
  },
  {
   "cell_type": "markdown",
   "metadata": {},
   "source": [
    "Find Factorial\n",
    "- Question: Calculate the factorial of a number"
   ]
  },
  {
   "cell_type": "code",
   "execution_count": null,
   "metadata": {},
   "outputs": [
    {
     "name": "stdout",
     "output_type": "stream",
     "text": [
      "120\n"
     ]
    }
   ],
   "source": [
    "def factorial(n):\n",
    "    if n <= 1:\n",
    "        return 1\n",
    "    return n * factorial(n - 1)\n",
    "\n",
    "print(factorial(5))"
   ]
  },
  {
   "cell_type": "markdown",
   "metadata": {},
   "source": [
    "Fibonacci Series\n",
    "- Generate the nth Fibonacci ()"
   ]
  },
  {
   "cell_type": "code",
   "execution_count": 8,
   "metadata": {},
   "outputs": [
    {
     "data": {
      "text/plain": [
       "3"
      ]
     },
     "execution_count": 8,
     "metadata": {},
     "output_type": "execute_result"
    }
   ],
   "source": [
    "def fibonacci(n):\n",
    "    if n <= 1:\n",
    "        return n\n",
    "    return fibonacci(n - 1) + fibonacci(n-2)\n",
    "\n",
    "fibonacci(4)"
   ]
  },
  {
   "cell_type": "markdown",
   "metadata": {},
   "source": [
    "Linked List Cycle Detection\n",
    "- detect if there is a cycle in the linked list"
   ]
  },
  {
   "cell_type": "code",
   "execution_count": 11,
   "metadata": {},
   "outputs": [
    {
     "name": "stdout",
     "output_type": "stream",
     "text": [
      "False\n"
     ]
    }
   ],
   "source": [
    "class ListNode:\n",
    "    def __init__(self, value=0, next=None):\n",
    "        self.value = value\n",
    "        self.next = next\n",
    "    \n",
    "def has_cycle(node):\n",
    "    slow, fast = node, node\n",
    "    while fast and fast.next:\n",
    "        slow = slow.next\n",
    "        fast = fast.next.next\n",
    "        if slow == fast:\n",
    "            return True\n",
    "        return False\n",
    "    \n",
    "def create_linked_list(values):\n",
    "    head = None\n",
    "    tail = None\n",
    "    for value in values:\n",
    "        new_node = ListNode(value)\n",
    "        if head is None:\n",
    "            head = tail = new_node\n",
    "        else:\n",
    "            tail.next = new_node\n",
    "            tail = new_node\n",
    "    return head\n",
    "\n",
    "base_list = [1,2,4,3]\n",
    "linked_list = create_linked_list(base_list)\n",
    "\n",
    "# check for a cycle\n",
    "print(has_cycle(linked_list))"
   ]
  },
  {
   "cell_type": "markdown",
   "metadata": {},
   "source": [
    "Merge Two Sorted Linked Lists"
   ]
  },
  {
   "cell_type": "code",
   "execution_count": 14,
   "metadata": {},
   "outputs": [
    {
     "name": "stdout",
     "output_type": "stream",
     "text": [
      "1 ->2 ->3 ->4 ->5 ->6\n"
     ]
    }
   ],
   "source": [
    "def print_linked_lis(head):\n",
    "    current = head\n",
    "    result = []\n",
    "    while current:\n",
    "        result.append(current.value)\n",
    "        current = current.next\n",
    "    print(\" ->\".join(map(str, result)))\n",
    "\n",
    "\n",
    "def merge_sorted_list(l1, l2):\n",
    "    dummy = ListNode(0)\n",
    "    current = dummy\n",
    "    while l1 and l2:\n",
    "        if l1.value < l2.value:\n",
    "            current.next, l1 = l1, l1.next\n",
    "        else:\n",
    "            current.next, l2 = l2, l2.next\n",
    "        current = current.next\n",
    "    current.next = l1 or l2\n",
    "    return dummy.next\n",
    "\n",
    "base_list = [1,2,3]\n",
    "base_list_2 = [4,5,6]\n",
    "linked_list = create_linked_list(base_list)\n",
    "linked_list_2 = create_linked_list(base_list_2)\n",
    "\n",
    "merged_list = merge_sorted_list(linked_list, linked_list_2)\n",
    "print_linked_lis(merged_list)"
   ]
  },
  {
   "cell_type": "markdown",
   "metadata": {},
   "source": [
    "Find the middle of a linked list"
   ]
  },
  {
   "cell_type": "code",
   "execution_count": null,
   "metadata": {},
   "outputs": [
    {
     "name": "stdout",
     "output_type": "stream",
     "text": [
      "<__main__.ListNode object at 0x10bbadb70>\n"
     ]
    }
   ],
   "source": [
    "def find_middle(node):\n",
    "    slow, fast = node, node\n",
    "    while fast and fast.next:\n",
    "        slow = slow.next\n",
    "        fast = fast.next.next\n",
    "    return slow"
   ]
  },
  {
   "cell_type": "markdown",
   "metadata": {},
   "source": [
    "Find max subarray using kadane's algorithm\n"
   ]
  },
  {
   "cell_type": "code",
   "execution_count": 19,
   "metadata": {},
   "outputs": [
    {
     "name": "stdout",
     "output_type": "stream",
     "text": [
      "41\n"
     ]
    }
   ],
   "source": [
    "def max_subarray(nums):\n",
    "    max_current = max_global = nums[0]\n",
    "    for i in range(1, len(nums)):\n",
    "        max_current = max(nums[i], max_current + nums[i])\n",
    "        max_global = max(max_global, max_current)\n",
    "    return max_global\n",
    "\n",
    "print(max_subarray([1,2,11,1,5,6,2,1,3,9]))"
   ]
  },
  {
   "cell_type": "markdown",
   "metadata": {},
   "source": [
    "Check if a Binary Tree is Balanced"
   ]
  },
  {
   "cell_type": "code",
   "execution_count": 25,
   "metadata": {},
   "outputs": [
    {
     "name": "stdout",
     "output_type": "stream",
     "text": [
      "Balanced Tree:\n",
      "Is Balanced? True\n",
      "In-Order-Traversal: 4 2 5 1 3 \n",
      "\n",
      "Unbalanced Tree:\n",
      "Is balanced? False\n",
      "In-Order Traversal:3 2 1 \n",
      "\n"
     ]
    }
   ],
   "source": [
    "class TreeNode:\n",
    "    def __init__(self, value=0, left=None, right=None):\n",
    "        self.value = value\n",
    "        self.left =  left\n",
    "        self.right = right\n",
    "    \n",
    "def is_balanced(root):\n",
    "    def check_balance(node):\n",
    "        if not node:\n",
    "            return 0, True\n",
    "        left_height, left_balanced = check_balance(node.left)\n",
    "        right_height, right_balanced = check_balance(node.right)\n",
    "        return max(left_height, right_height) + 1, left_balanced and right_balanced and abs(left_height - right_height) <= 1\n",
    "    return check_balance(root)[1]\n",
    "\n",
    "\n",
    "def build_tree(values):\n",
    "    if not values:\n",
    "        return None\n",
    "    nodes = [TreeNode(value) if value is not None else None for value in values]\n",
    "    for i in range(len(nodes)):\n",
    "        if nodes[i]:\n",
    "            left_index = 2 * i + 1\n",
    "            right_index = 2 * i + 2\n",
    "            if left_index < len(nodes):\n",
    "                nodes[i].left = nodes[left_index]\n",
    "            if right_index < len(nodes):\n",
    "                nodes[i].right = nodes[right_index]\n",
    "    return nodes[0]\n",
    "\n",
    "def print_in_order(root):\n",
    "    if root:\n",
    "        print_in_order(root.left)\n",
    "        print(root.value, end=\" \")\n",
    "        print_in_order(root.right)\n",
    "\n",
    "\n",
    "balanced_tree = build_tree([1,2,3,4,5, None, None])\n",
    "print(\"Balanced Tree:\")\n",
    "print(\"Is Balanced?\", is_balanced(balanced_tree))\n",
    "print(\"In-Order-Traversal:\", end=\" \")\n",
    "print_in_order(balanced_tree)\n",
    "print(\"\\n\")\n",
    "\n",
    "#unbalanded tree\n",
    "unbalanced_tree = build_tree([1,2, None, 3, None, None, None])\n",
    "print(\"Unbalanced Tree:\")\n",
    "print(\"Is balanced?\", is_balanced(unbalanced_tree))\n",
    "print(\"In-Order Traversal:\", end = \"\")\n",
    "print_in_order(unbalanced_tree)\n",
    "print(\"\\n\")"
   ]
  },
  {
   "cell_type": "markdown",
   "metadata": {},
   "source": [
    "Breadth-First Search in Graph\n",
    "- graph is represented as an adjacency list where each node is a key, and its neighbors are in a set\n",
    "    - example: 'A': {'B', 'C'} means node A is connected to nodes B and C.\n",
    "- how BFS works:\n",
    "    - start with the queue initialized with the start node\n",
    "    - pop nodes from the queue, mark them as visited, add their unvisited neighbors to the queue\n",
    "    - repeat until queue is empty"
   ]
  },
  {
   "cell_type": "code",
   "execution_count": 28,
   "metadata": {},
   "outputs": [
    {
     "name": "stdout",
     "output_type": "stream",
     "text": [
      "Graph:  {'A': {'C', 'B'}, 'B': {'E', 'A', 'D'}, 'C': {'F', 'A'}, 'D': {'B'}, 'E': {'F', 'B'}, 'F': {'C', 'E'}}\n",
      "BFS starting from node 'A': {'E', 'F', 'D', 'B', 'C', 'A'}\n"
     ]
    }
   ],
   "source": [
    "from collections import deque\n",
    "\n",
    "def bfs(graph, start):\n",
    "    visited = set()\n",
    "    queue = deque([start])\n",
    "    while queue:\n",
    "        vertex = queue.popleft()\n",
    "        if vertex not in visited:\n",
    "            visited.add(vertex)\n",
    "            queue.extend(graph[vertex] - visited)\n",
    "    return visited\n",
    "\n",
    "# graph example (adjacency list)\n",
    "graph = {\n",
    "    'A': {'B', 'C'},\n",
    "    'B': {'A', 'D', 'E'},\n",
    "    'C' : {'A', 'F'},\n",
    "    'D': {'B'},\n",
    "    'E' : {'B', 'F'},\n",
    "    'F' : {'C', 'E'}\n",
    "}\n",
    "\n",
    "print(\"Graph: \", graph)\n",
    "start_node = \"A\"\n",
    "print(f\"BFS starting from node '{start_node}':\", bfs(graph, start_node))\n"
   ]
  },
  {
   "cell_type": "markdown",
   "metadata": {},
   "source": [
    "Depth-First Search (DFS) in Graph\n",
    "- Graph Representation:\n",
    "    - The graph is represented as an adjacency list where each node points to a set of its neighbors\n",
    "    - Example 'A': {'B', 'C'} means node A is connected to nodes B and C\n",
    "- How DFS Works\n",
    "    - Recursive Algorithm:\n",
    "        - visit the starting node  and mark it as visited\n",
    "        - recursively visit all unvisited neighbors\n",
    "    - key difference from BFS:\n",
    "        - dfs dives deep into one branch of the graph before backtracking to explore others\n",
    "        "
   ]
  },
  {
   "cell_type": "code",
   "execution_count": 32,
   "metadata": {},
   "outputs": [
    {
     "name": "stdout",
     "output_type": "stream",
     "text": [
      "Graph:  {'A': {'C', 'B'}, 'B': {'E', 'A', 'D'}, 'C': {'F', 'A'}, 'D': {'B'}, 'E': {'F', 'B'}, 'F': {'C', 'E'}}\n",
      "DFS starting from node 'A': ['A', 'C', 'F', 'E', 'B', 'D']\n"
     ]
    }
   ],
   "source": [
    "def dfs(graph, start, visited=None):\n",
    "    if visited is None:\n",
    "        visited = []\n",
    "    if start not in visited:\n",
    "        visited.append(start)\n",
    "        for vertex in graph[start]:\n",
    "            dfs(graph, vertex, visited)\n",
    "    return visited\n",
    "\n",
    "graph = {\n",
    "    'A': {'B', 'C'},\n",
    "    'B': {'A', 'D', 'E'},\n",
    "    'C': {'A', 'F'},\n",
    "    'D': {'B'},\n",
    "    'E': {'B', 'F'},\n",
    "    'F': {'C', 'E'}\n",
    "}\n",
    "\n",
    "print(\"Graph: \", graph)\n",
    "start_node = \"A\"\n",
    "print(f\"DFS starting from node '{start_node}':\", dfs(graph, 'A'))"
   ]
  },
  {
   "cell_type": "code",
   "execution_count": null,
   "metadata": {},
   "outputs": [],
   "source": []
  },
  {
   "cell_type": "code",
   "execution_count": null,
   "metadata": {},
   "outputs": [],
   "source": []
  },
  {
   "cell_type": "code",
   "execution_count": null,
   "metadata": {},
   "outputs": [],
   "source": []
  },
  {
   "cell_type": "code",
   "execution_count": null,
   "metadata": {},
   "outputs": [],
   "source": []
  },
  {
   "cell_type": "code",
   "execution_count": null,
   "metadata": {},
   "outputs": [],
   "source": []
  },
  {
   "cell_type": "code",
   "execution_count": null,
   "metadata": {},
   "outputs": [],
   "source": []
  },
  {
   "cell_type": "code",
   "execution_count": null,
   "metadata": {},
   "outputs": [],
   "source": []
  },
  {
   "cell_type": "code",
   "execution_count": null,
   "metadata": {},
   "outputs": [],
   "source": []
  }
 ],
 "metadata": {
  "kernelspec": {
   "display_name": "Python 3",
   "language": "python",
   "name": "python3"
  },
  "language_info": {
   "codemirror_mode": {
    "name": "ipython",
    "version": 3
   },
   "file_extension": ".py",
   "mimetype": "text/x-python",
   "name": "python",
   "nbconvert_exporter": "python",
   "pygments_lexer": "ipython3",
   "version": "3.10.6"
  }
 },
 "nbformat": 4,
 "nbformat_minor": 2
}
